{
 "cells": [
  {
   "cell_type": "markdown",
   "metadata": {},
   "source": [
    "<h1 align='center'><font color=\"orange\">The Rice is Right:</font></h1>\n",
    "<h1 align='center'>Early Detection of Rice Leaf Disease using Convolutional Neural Networks</h1>"
   ]
  },
  {
   "cell_type": "markdown",
   "metadata": {},
   "source": [
    "# Highlights\n",
    "\n",
    "In the Philippines, rice farming industry is very dominant encompassing over 10 million Filipinos. However, these families earn as low as 10 pesos due to the current economy in the industry. Add this to the fact that 37\\% of their production are lost due to pests and diseases.\n",
    "\n",
    "This study aims to help farmers by early detection of disease through rice leaf image processing using convolutional neural networks. The model is trained on the Rice Disease Image Dataset by Huy Minh Do which includes over 3000 rice leaf images. Over 4 categories: Leaf Blast, Brown Spot, Hispa, and Healthy; the model performs well at 78.2\\% accuracy. We also looked at how it performs on classifying a healthy rice leaf and found that the model performed even better at 92.2\\%. Furthermore, we saw that the model is capable even for cases where the symptoms of the disease are still very small. This model gives farmers ample time to potentially save their crops, have better yield, and save cost from fertilizers and pesticides."
   ]
  },
  {
   "cell_type": "markdown",
   "metadata": {},
   "source": [
    "## Data"
   ]
  },
  {
   "cell_type": "markdown",
   "metadata": {},
   "source": [
    "The data used for this project is [Rice Diseases Image Dataset](https://www.kaggle.com/minhhuy2810/rice-diseases-image-dataset/version/1?fbclid=IwAR3QwbQzFpHLe_KCelIbrrMB4kwaBfhzJhrcqLwX7DEOJmLfkI4ZRF2le4U) compiled by Huy Minh Do and uploaded in Kaggle. This consists of 3355 images of isolated rice leaves with four classifications: Healthy (1488) or afflicted with one of the diseases: Hispa (565), Brown Spot (523), or Leaf Blast (779). The image sizes range from 734 by 734 pixels to 3120 by 3120 pixels. Sample images of the dataset for each classification is shown in Figure 1. \n",
    "\n",
    "<img src='sampleimages.png'>\n",
    "<div align='center'>Figure 1. Sample images of rice leaves per classification: Leaf Blast, Brown Spot, Hispa, and Healthy.</div>"
   ]
  },
  {
   "cell_type": "markdown",
   "metadata": {},
   "source": [
    "## Data Pre-processing\n",
    "\n",
    "Before any modeling or classification is performed on the images, several image pre-processing steps must be performed first. "
   ]
  },
  {
   "cell_type": "markdown",
   "metadata": {},
   "source": [
    "### Reshape\n",
    "\n",
    "To account for any limitations that may arise due to camera specifications, all images are reshaped to 300 by 300 pixels, regardless of initial shape. In doing so, the model that will be trained in the succeeding parts will be applicable to even low-quality images. We use PIL for this."
   ]
  },
  {
   "cell_type": "code",
   "execution_count": 1,
   "metadata": {
    "ExecuteTime": {
     "end_time": "2019-12-23T08:56:13.064463Z",
     "start_time": "2019-12-23T08:56:13.036462Z"
    }
   },
   "outputs": [],
   "source": [
    "from PIL import Image\n",
    "import glob\n",
    "import os\n",
    "import numpy as np\n",
    "import matplotlib.pyplot as plt"
   ]
  },
  {
   "cell_type": "code",
   "execution_count": 2,
   "metadata": {},
   "outputs": [],
   "source": [
    "main_directory = 'D://Moy Hao Zhen/University of Malaya/Sem 5 - Internship Intel/UMHackathon/archive/NewDataset'"
   ]
  },
  {
   "cell_type": "code",
   "execution_count": 3,
   "metadata": {
    "ExecuteTime": {
     "end_time": "2019-12-11T14:04:35.575257Z",
     "start_time": "2019-12-11T14:04:35.013398Z"
    }
   },
   "outputs": [
    {
     "data": {
      "text/plain": [
       "['D://Moy Hao Zhen/University of Malaya/Sem 5 - Internship Intel/UMHackathon/archive/NewDataset/Labelled\\\\BrownSpot',\n",
       " 'D://Moy Hao Zhen/University of Malaya/Sem 5 - Internship Intel/UMHackathon/archive/NewDataset/Labelled\\\\Healthy',\n",
       " 'D://Moy Hao Zhen/University of Malaya/Sem 5 - Internship Intel/UMHackathon/archive/NewDataset/Labelled\\\\Hispa',\n",
       " 'D://Moy Hao Zhen/University of Malaya/Sem 5 - Internship Intel/UMHackathon/archive/NewDataset/Labelled\\\\LeafBlast']"
      ]
     },
     "execution_count": 3,
     "metadata": {},
     "output_type": "execute_result"
    }
   ],
   "source": [
    "labelled_type = glob.glob(main_directory + '/Labelled/*')\n",
    "files = glob.glob(main_directory + '/Labelled/*/*')\n",
    "labelled_type"
   ]
  },
  {
   "cell_type": "code",
   "execution_count": 4,
   "metadata": {
    "ExecuteTime": {
     "end_time": "2019-12-11T14:04:59.310867Z",
     "start_time": "2019-12-11T14:04:59.305905Z"
    }
   },
   "outputs": [
    {
     "data": {
      "text/plain": [
       "['D://Moy Hao Zhen/University of Malaya/Sem 5 - Internship Intel/UMHackathon/archive/NewDataset/Resized\\\\BrownSpot',\n",
       " 'D://Moy Hao Zhen/University of Malaya/Sem 5 - Internship Intel/UMHackathon/archive/NewDataset/Resized\\\\Healthy',\n",
       " 'D://Moy Hao Zhen/University of Malaya/Sem 5 - Internship Intel/UMHackathon/archive/NewDataset/Resized\\\\Hispa',\n",
       " 'D://Moy Hao Zhen/University of Malaya/Sem 5 - Internship Intel/UMHackathon/archive/NewDataset/Resized\\\\LeafBlast']"
      ]
     },
     "execution_count": 4,
     "metadata": {},
     "output_type": "execute_result"
    }
   ],
   "source": [
    "reshape_type =  list(map(lambda x: x.replace('/Labelled\\\\', '/Resized\\\\'), labelled_type))\n",
    "files_reshape = list(map(lambda x: x.replace('/Labelled\\\\', '/Resized\\\\'), files))\n",
    "reshape_type"
   ]
  },
  {
   "cell_type": "code",
   "execution_count": 5,
   "metadata": {},
   "outputs": [],
   "source": [
    "#make resize path\n",
    "for t in reshape_type:\n",
    "    try:\n",
    "        os.makedirs(t)\n",
    "    except FileExistsError:\n",
    "        print(\"File \", t, 'exists')"
   ]
  },
  {
   "cell_type": "code",
   "execution_count": 6,
   "metadata": {
    "ExecuteTime": {
     "end_time": "2019-12-11T14:13:12.364526Z",
     "start_time": "2019-12-11T14:05:12.341279Z"
    }
   },
   "outputs": [],
   "source": [
    "basewidth = 224\n",
    "for file, file_save in zip(files, files_reshape):\n",
    "    img = Image.open(file)\n",
    "    wpercent = (basewidth/float(img.size[0]))\n",
    "    hsize = int((float(img.size[1])*float(wpercent)))\n",
    "    img = img.resize((basewidth,basewidth), Image.ANTIALIAS)\n",
    "    img.save(file_save)"
   ]
  },
  {
   "cell_type": "markdown",
   "metadata": {},
   "source": [
    " To do this, a mask is created using the following steps:"
   ]
  },
  {
   "cell_type": "markdown",
   "metadata": {
    "ExecuteTime": {
     "end_time": "2019-12-11T10:48:17.242076Z",
     "start_time": "2019-12-11T10:48:17.234081Z"
    }
   },
   "source": [
    "### Background removal\n",
    "After reshaping, the foreground of the image, i.e. the actual leaf, must be separated from the background to reduce noise and data leakage, which would then lead to easier model training. With this, we need to do automated background removal such that an actual photo not taken in an isolated environment can be classified properly by our model.\n",
    "\n",
    "These are the steps taken to remove the background per image:\n",
    "\n",
    "1. We first perform thresholding according to the RGB values. We want the green pixels and the area around it so we filter by taking out the pixels that have too high red and blue values. \n",
    "\n",
    "        1a. We start with 220 threshold (out of 255) and continuously reduce this threshold if the resulting mask image is too big (i.e. not much of the image has been filtered). \n",
    "\n",
    "2. From the resulting mask, we perform morphological techniques like opening so that the pixels in-between the green leaf pixels will be included into the mask (i.e. the brown spots which will most likely be filtered out will be included using the morphological technique). For this, we use a circular structuring element of radius 13px.\n",
    "\n",
    "3. We perform erosion to increase the area of the mask in order for the filter to include the immediate surrounding pixels. Then a final closing operation was done to remove the isolated dots.\n",
    "\n",
    "4. From the blobs formed, we select the largest one and use that as the mask for our actual image.\n",
    "\n",
    "*erosion and opening was used and not dilation and closing since the foreground and background are reversed in the mask (the actual area we want to use has values of False and the backgroudn we want to remove has values of True)"
   ]
  },
  {
   "cell_type": "code",
   "execution_count": 7,
   "metadata": {
    "ExecuteTime": {
     "end_time": "2019-12-19T08:49:39.885299Z",
     "start_time": "2019-12-19T08:49:39.882489Z"
    }
   },
   "outputs": [],
   "source": [
    "from skimage.morphology import binary_closing, binary_opening, erosion"
   ]
  },
  {
   "cell_type": "code",
   "execution_count": 8,
   "metadata": {
    "ExecuteTime": {
     "end_time": "2019-12-11T14:14:45.817364Z",
     "start_time": "2019-12-11T14:14:45.811380Z"
    }
   },
   "outputs": [],
   "source": [
    "# reshape_type =  list(map(lambda x: x.replace('/Labelled\\\\', '/Resized\\\\'), labelled_type))\n",
    "# files_reshape = list(map(lambda x: x.replace('/Labelled\\\\', '/Resized\\\\'), files))\n",
    "\n",
    "bgremoved_type =  list(map(lambda x: x.replace('/Labelled\\\\', '/BGRemoved\\\\'), labelled_type))\n",
    "files_bgremoved = list(map(lambda x: x.replace('/Labelled\\\\', '/BGRemoved\\\\'), files))\n",
    "bgremoved1_type = list(map(lambda x: x.replace('/Labelled\\\\', '/BGRemoved1\\\\'), labelled_type))\n",
    "files_bgremoved1 = list(map(lambda x: x.replace('/Labelled\\\\', '/BGRemoved1\\\\'), files))\n"
   ]
  },
  {
   "cell_type": "code",
   "execution_count": 9,
   "metadata": {},
   "outputs": [],
   "source": [
    "#make bgremoved path\n",
    "for t in bgremoved_type:\n",
    "    try:\n",
    "        os.makedirs(t)\n",
    "    except FileExistsError:\n",
    "        print(\"File \", t, 'exists')"
   ]
  },
  {
   "cell_type": "code",
   "execution_count": 10,
   "metadata": {
    "ExecuteTime": {
     "end_time": "2019-12-11T14:14:46.587208Z",
     "start_time": "2019-12-11T14:14:46.580220Z"
    }
   },
   "outputs": [],
   "source": [
    "selem = np.zeros((25, 25))\n",
    "\n",
    "ci,cj=12, 12\n",
    "cr=13\n",
    "\n",
    "# Create index arrays to z\n",
    "I,J=np.meshgrid(np.arange(selem.shape[0]),np.arange(selem.shape[1]))\n",
    "\n",
    "# calculate distance of all points to centre\n",
    "dist=np.sqrt((I-ci)**2+(J-cj)**2)\n",
    "\n",
    "# Assign value of 1 to those points where dist<cr:\n",
    "selem[np.where(dist<=cr)]=1"
   ]
  },
  {
   "cell_type": "code",
   "execution_count": 11,
   "metadata": {
    "ExecuteTime": {
     "end_time": "2019-12-11T17:44:46.590736Z",
     "start_time": "2019-12-11T14:51:13.472621Z"
    },
    "scrolled": true
   },
   "outputs": [],
   "source": [
    "# Original\n",
    "%matplotlib inline\n",
    "import numpy as np\n",
    "from scipy import ndimage\n",
    "\n",
    "# fig, ax = plt.subplots(20,2, figsize=(10,80))\n",
    "idx = 0\n",
    "for file, file_save in zip(files_reshape, files_bgremoved):\n",
    "    bg_frac = 0\n",
    "    thres = 200\n",
    "    img = Image.open(file)\n",
    "    im_arr = np.array(img)\n",
    "#     ax[idx, 0].imshow(im_arr)\n",
    "    R = im_arr[:, :, 0]\n",
    "    G = im_arr[:, :, 1]\n",
    "    B = im_arr[:, :, 2]\n",
    "    while bg_frac < 0.6: \n",
    "        bg_mask = ((R>thres) | (B>thres)) #& (G < 100)\n",
    "        bg_frac = bg_mask.sum()/len(bg_mask.flatten())\n",
    "        thres -= 5\n",
    "    # we use opening first since our mask is reversed (the foreground and background are reversed here)\n",
    "    bg_mask = binary_closing(erosion(binary_opening(bg_mask, selem), np.ones((3, 3))), np.ones((5,5)))\n",
    "    \n",
    "    #Get biggest blob\n",
    "    label, num_label = ndimage.label(~bg_mask)\n",
    "    size = np.bincount(label.ravel())\n",
    "    biggest_label = size[1:].argmax() + 1\n",
    "    bg_mask = label == biggest_label\n",
    "    \n",
    "    im_arr[~bg_mask, 0] = 255\n",
    "    im_arr[~bg_mask, 1] = 255\n",
    "    im_arr[~bg_mask, 2] = 255\n",
    "    \n",
    "    img = Image.fromarray(im_arr)\n",
    "    \n",
    "    img.save(file_save)\n",
    "    idx+=1\n"
   ]
  },
  {
   "cell_type": "code",
   "execution_count": 12,
   "metadata": {
    "ExecuteTime": {
     "end_time": "2019-12-11T13:15:45.622608Z",
     "start_time": "2019-12-11T13:15:45.368254Z"
    }
   },
   "outputs": [
    {
     "data": {
      "text/plain": [
       "(array([6.8980e+03, 3.2000e+02, 3.3400e+02, 4.4900e+02, 4.0600e+02,\n",
       "        1.8310e+03, 7.2720e+03, 1.4600e+02, 1.0000e+00, 3.2519e+04]),\n",
       " array([  0. ,  25.5,  51. ,  76.5, 102. , 127.5, 153. , 178.5, 204. ,\n",
       "        229.5, 255. ]),\n",
       " <BarContainer object of 10 artists>)"
      ]
     },
     "execution_count": 12,
     "metadata": {},
     "output_type": "execute_result"
    },
    {
     "data": {
      "image/png": "[encoded data removed]",
      "text/plain": [
       "<Figure size 432x288 with 1 Axes>"
      ]
     },
     "metadata": {
      "needs_background": "light"
     },
     "output_type": "display_data"
    }
   ],
   "source": [
    "%matplotlib inline\n",
    "import matplotlib.pyplot as plt\n",
    "plt.hist(R.flatten(), alpha=0.5)\n",
    "plt.hist(G.flatten(), alpha=0.5)\n",
    "plt.hist(B.flatten(), alpha=0.5)\n"
   ]
  },
  {
   "cell_type": "markdown",
   "metadata": {},
   "source": [
    "### Data Augmentation\n",
    "\n",
    "To account for different environments upon taking the picture, e.g. rotated images, shifted objects, zoomed in pictures, image augmentation is performed. The augmented images will be transformed versions of the dataset by randomly rotating the image up to 30$^\\circ$, shifting the image vertically or horizontally up to 15% of the image length, shearing the image up to 20$^\\circ$, and zooming in the image 0.8x to 1.2x."
   ]
  },
  {
   "cell_type": "code",
   "execution_count": 13,
   "metadata": {
    "ExecuteTime": {
     "end_time": "2019-12-19T08:16:44.180136Z",
     "start_time": "2019-12-19T08:16:42.185773Z"
    },
    "scrolled": true
   },
   "outputs": [],
   "source": [
    "import os\n",
    "import numpy as np\n",
    "from tensorflow.keras.preprocessing.image import ImageDataGenerator\n",
    "from tensorflow.keras import models\n",
    "from tensorflow.keras import layers\n",
    "from tensorflow.keras import optimizers\n",
    "import matplotlib.pyplot as plt\n",
    "%matplotlib inline\n",
    "\n",
    "base_dir = ('D://Moy Hao Zhen/University of Malaya/Sem 5 - Internship Intel/UMHackathon/archive/NewDataset/BGRemoved')\n",
    "os.makedirs(base_dir, exist_ok=True)"
   ]
  },
  {
   "cell_type": "code",
   "execution_count": 14,
   "metadata": {
    "ExecuteTime": {
     "end_time": "2019-12-19T08:16:47.480955Z",
     "start_time": "2019-12-19T08:16:44.193849Z"
    }
   },
   "outputs": [
    {
     "name": "stdout",
     "output_type": "stream",
     "text": [
      "Found 420 images belonging to 4 classes.\n",
      "Found 180 images belonging to 4 classes.\n"
     ]
    }
   ],
   "source": [
    "datagen = ImageDataGenerator(\n",
    "    rotation_range=30, width_shift_range=0.15,\n",
    "    height_shift_range=0.15, shear_range=0.15, \n",
    "    zoom_range=0.2,horizontal_flip=True, \n",
    "    fill_mode=\"nearest\", validation_split=0.3)\n",
    "batch_size = 32\n",
    "\n",
    "train_generator = datagen.flow_from_directory(\n",
    "    base_dir,\n",
    "    target_size=(224, 224),\n",
    "    batch_size=batch_size,\n",
    "    class_mode='categorical',\n",
    "    subset='training')\n",
    "\n",
    "val_generator = datagen.flow_from_directory(\n",
    "    base_dir,\n",
    "    target_size=(224, 224),\n",
    "    batch_size=batch_size,\n",
    "    class_mode='categorical',\n",
    "    subset='validation')"
   ]
  },
  {
   "cell_type": "markdown",
   "metadata": {},
   "source": [
    "## Modeling\n",
    "\n",
    "For the modeling, we used different pre-trained models and one manually made model to classify the images. Six architectures were used for this project:\n",
    "\n",
    "1. VGG16 base for feature extraction and 3-dense layers for classification.\n",
    "2. VGG16 base with only the first 3 blocks frozen and 3-dense layers\n",
    "3. VGG19 base and 3-dense layers\n",
    "4. XCeption base and 3-dense layers\n",
    "5. ResNet base and 3-dense layers\n",
    "6. 5 convolutional layers and 2-dense layers"
   ]
  },
  {
   "cell_type": "markdown",
   "metadata": {},
   "source": [
    "### VGG16"
   ]
  },
  {
   "cell_type": "code",
   "execution_count": null,
   "metadata": {
    "ExecuteTime": {
     "end_time": "2019-12-23T11:28:44.452031Z",
     "start_time": "2019-12-23T11:28:29.784205Z"
    },
    "scrolled": false
   },
   "outputs": [],
   "source": [
    "from tensorflow.keras.callbacks import ModelCheckpoint, ReduceLROnPlateau\n",
    "\n",
    "checkpoint = ModelCheckpoint('VGG16.h5', verbose=1, monitor='val_accuracy', save_best_only=True, mode='auto')  "
   ]
  },
  {
   "cell_type": "code",
   "execution_count": 9,
   "metadata": {
    "ExecuteTime": {
     "end_time": "2019-12-19T08:16:47.498908Z",
     "start_time": "2019-12-19T08:16:47.491926Z"
    }
   },
   "outputs": [],
   "source": [
    "datagen = ImageDataGenerator(\n",
    "    rotation_range=30, width_shift_range=0.15,\n",
    "    height_shift_range=0.15, shear_range=0.15, \n",
    "    zoom_range=0.2,horizontal_flip=True, \n",
    "    fill_mode=\"nearest\")\n",
    "# datagen = ImageDataGenerator(rescale=1./255)\n",
    "\n",
    "def extract_features(trainorval, sample_count):\n",
    "    features = np.zeros(shape=(sample_count, 7, 7, 512))\n",
    "    labels = np.zeros(shape=(sample_count, 4))\n",
    "    if trainorval==\"training\":\n",
    "        generator = train_generator\n",
    "    else:\n",
    "        generator = val_generator\n",
    "    i = 0\n",
    "    for inputs_batch, labels_batch in generator:\n",
    "        features_batch = conv_base.predict(preprocess_input(inputs_batch))\n",
    "        try:\n",
    "            features[i * batch_size : (i + 1) * batch_size] = features_batch\n",
    "            labels[i * batch_size : (i + 1) * batch_size] = labels_batch\n",
    "        except ValueError:\n",
    "            break\n",
    "        i += 1\n",
    "        if i * batch_size >= sample_count:\n",
    "            break\n",
    "    return features, labels\n"
   ]
  },
  {
   "cell_type": "code",
   "execution_count": 10,
   "metadata": {
    "ExecuteTime": {
     "end_time": "2019-12-19T08:16:48.577485Z",
     "start_time": "2019-12-19T08:16:47.787391Z"
    }
   },
   "outputs": [
    {
     "name": "stdout",
     "output_type": "stream",
     "text": [
      "WARNING:tensorflow:From C:\\Users\\Justin\\Anaconda3\\envs\\tf-gpu\\lib\\site-packages\\tensorflow\\python\\ops\\init_ops.py:1251: calling VarianceScaling.__init__ (from tensorflow.python.ops.init_ops) with dtype is deprecated and will be removed in a future version.\n",
      "Instructions for updating:\n",
      "Call initializer instance with the dtype argument instead of passing it to the constructor\n"
     ]
    }
   ],
   "source": [
    "from tensorflow.keras.applications.vgg16 import VGG16, preprocess_input\n",
    "\n",
    "conv_base = VGG16(weights='imagenet',\n",
    "                  include_top=False,\n",
    "                  input_shape=(224, 224, 3))"
   ]
  },
  {
   "cell_type": "code",
   "execution_count": 11,
   "metadata": {
    "ExecuteTime": {
     "end_time": "2019-12-19T08:16:49.828759Z",
     "start_time": "2019-12-19T08:16:49.824753Z"
    }
   },
   "outputs": [],
   "source": [
    "conv_base.trainable = True\n",
    "for layer in conv_base.layers:\n",
    "    layer.trainable = True\n"
   ]
  },
  {
   "cell_type": "code",
   "execution_count": 12,
   "metadata": {
    "ExecuteTime": {
     "end_time": "2019-12-19T08:25:30.078651Z",
     "start_time": "2019-12-19T08:16:51.843433Z"
    }
   },
   "outputs": [],
   "source": [
    "train_features, train_labels = extract_features('training', 2319)\n",
    "validation_features, validation_labels = extract_features('validation', 991)\n",
    "\n",
    "train_features = np.reshape(train_features, (2319, 7 * 7 * 512))\n",
    "validation_features = np.reshape(validation_features, (991, 7 * 7 * 512))"
   ]
  },
  {
   "cell_type": "code",
   "execution_count": 3,
   "metadata": {
    "ExecuteTime": {
     "end_time": "2019-12-23T08:58:32.982783Z",
     "start_time": "2019-12-23T08:58:32.228356Z"
    }
   },
   "outputs": [],
   "source": [
    "model = models.Sequential()\n",
    "model.add(layers.Dense(256, activation='relu', input_dim=7 * 7 * 512))\n",
    "model.add(layers.Dropout(0.2))\n",
    "model.add(layers.Dense(128, activation='relu'))\n",
    "model.add(layers.Dropout(0.2))  #Removing 50% of the weights!\n",
    "model.add(layers.Dense(4, activation='softmax'))"
   ]
  },
  {
   "cell_type": "code",
   "execution_count": 5,
   "metadata": {
    "ExecuteTime": {
     "end_time": "2019-12-23T08:59:15.375270Z",
     "start_time": "2019-12-23T08:59:15.139233Z"
    }
   },
   "outputs": [],
   "source": [
    "from tensorflow.keras.optimizers import Adam\n",
    "\n",
    "INIT_LR = 1e-1\n",
    "EPOCHS = 30\n",
    "\n",
    "opt = Adam(lr=INIT_LR, decay=INIT_LR / EPOCHS)\n",
    "model.compile(loss=\"binary_crossentropy\", optimizer=opt, metrics=[\"accuracy\"])"
   ]
  },
  {
   "cell_type": "code",
   "execution_count": 18,
   "metadata": {
    "ExecuteTime": {
     "end_time": "2019-12-23T09:30:20.525123Z",
     "start_time": "2019-12-23T09:30:20.377121Z"
    }
   },
   "outputs": [
    {
     "name": "stdout",
     "output_type": "stream",
     "text": [
      "Failed to import pydot. You must install pydot and graphviz for `pydotprint` to work.\n"
     ]
    }
   ],
   "source": [
    "from tensorflow.keras.models import Sequential\n",
    "from tensorflow.keras.layers import Dense\n",
    "# from tensorflow.keras.utils.vis_utils import plot_model\n",
    "from tensorflow.keras.utils import plot_model\n",
    "import os\n",
    "os.environ[\"PATH\"] += os.pathsep + 'C:\\\\Users\\\\1000246125\\\\AppData\\\\Local\\\\Continuum\\\\anaconda3\\\\Library\\\\bin'\n",
    "model = Sequential()\n",
    "model.add(Dense(2, input_dim=1, activation='relu'))\n",
    "model.add(Dense(1, activation='sigmoid'))\n",
    "plot_model(model, to_file='model_plot.png', show_shapes=True, show_layer_names=True)"
   ]
  },
  {
   "cell_type": "code",
   "execution_count": 14,
   "metadata": {
    "ExecuteTime": {
     "end_time": "2019-12-19T08:26:49.729940Z",
     "start_time": "2019-12-19T08:25:30.259953Z"
    },
    "scrolled": true
   },
   "outputs": [
    {
     "name": "stdout",
     "output_type": "stream",
     "text": [
      "Train on 2319 samples, validate on 991 samples\n",
      "WARNING:tensorflow:From C:\\Users\\Justin\\Anaconda3\\envs\\tf-gpu\\lib\\site-packages\\tensorflow\\python\\ops\\math_grad.py:1250: add_dispatch_support.<locals>.wrapper (from tensorflow.python.ops.array_ops) is deprecated and will be removed in a future version.\n",
      "Instructions for updating:\n",
      "Use tf.where in 2.0, which has the same broadcast rule as np.where\n"
     ]
    },
    {
     "name": "stderr",
     "output_type": "stream",
     "text": [
      "Using TensorFlow backend.\n"
     ]
    },
    {
     "name": "stdout",
     "output_type": "stream",
     "text": [
      "Epoch 1/30\n",
      "2272/2319 [============================>.] - ETA: 0s - loss: 6.3477 - acc: 0.5844\n",
      "Epoch 00001: val_acc improved from -inf to 0.58426, saving model to VGG16.h5\n",
      "2319/2319 [==============================] - 3s 1ms/sample - loss: 6.3451 - acc: 0.5846 - val_loss: 6.3937 - val_acc: 0.5843\n",
      "Epoch 2/30\n",
      "2272/2319 [============================>.] - ETA: 0s - loss: 6.3831 - acc: 0.5849\n",
      "Epoch 00002: val_acc did not improve from 0.58426\n",
      "2319/2319 [==============================] - 3s 1ms/sample - loss: 6.3964 - acc: 0.5841 - val_loss: 6.3937 - val_acc: 0.5843\n",
      "Epoch 3/30\n",
      "2272/2319 [============================>.] - ETA: 0s - loss: 6.3933 - acc: 0.5843\n",
      "Epoch 00003: val_acc did not improve from 0.58426\n",
      "2319/2319 [==============================] - 3s 1ms/sample - loss: 6.3964 - acc: 0.5841 - val_loss: 6.3937 - val_acc: 0.5843\n",
      "Epoch 4/30\n",
      "2272/2319 [============================>.] - ETA: 0s - loss: 6.3967 - acc: 0.5841\n",
      "Epoch 00004: val_acc did not improve from 0.58426\n",
      "2319/2319 [==============================] - 3s 1ms/sample - loss: 6.3964 - acc: 0.5841 - val_loss: 6.3937 - val_acc: 0.5843\n",
      "Epoch 5/30\n",
      "2272/2319 [============================>.] - ETA: 0s - loss: 6.3933 - acc: 0.5843\n",
      "Epoch 00005: val_acc did not improve from 0.58426\n",
      "2319/2319 [==============================] - 3s 1ms/sample - loss: 6.3964 - acc: 0.5841 - val_loss: 6.3937 - val_acc: 0.5843\n",
      "Epoch 6/30\n",
      "2304/2319 [============================>.] - ETA: 0s - loss: 6.3979 - acc: 0.5840\n",
      "Epoch 00006: val_acc did not improve from 0.58426\n",
      "2319/2319 [==============================] - 3s 1ms/sample - loss: 6.3964 - acc: 0.5841 - val_loss: 6.3937 - val_acc: 0.5843\n",
      "Epoch 7/30\n",
      "2272/2319 [============================>.] - ETA: 0s - loss: 6.4001 - acc: 0.5838\n",
      "Epoch 00007: val_acc did not improve from 0.58426\n",
      "2319/2319 [==============================] - 3s 1ms/sample - loss: 6.3964 - acc: 0.5841 - val_loss: 6.3937 - val_acc: 0.5843\n",
      "Epoch 8/30\n",
      "2304/2319 [============================>.] - ETA: 0s - loss: 6.4013 - acc: 0.5838\n",
      "Epoch 00008: val_acc did not improve from 0.58426\n",
      "2319/2319 [==============================] - 3s 1ms/sample - loss: 6.3964 - acc: 0.5841 - val_loss: 6.3937 - val_acc: 0.5843\n",
      "Epoch 9/30\n",
      "2272/2319 [============================>.] - ETA: 0s - loss: 6.4102 - acc: 0.5832\n",
      "Epoch 00009: val_acc did not improve from 0.58426\n",
      "2319/2319 [==============================] - 3s 1ms/sample - loss: 6.3964 - acc: 0.5841 - val_loss: 6.3937 - val_acc: 0.5843\n",
      "Epoch 10/30\n",
      "2304/2319 [============================>.] - ETA: 0s - loss: 6.3913 - acc: 0.5844\n",
      "Epoch 00010: val_acc did not improve from 0.58426\n",
      "2319/2319 [==============================] - 3s 1ms/sample - loss: 6.3964 - acc: 0.5841 - val_loss: 6.3937 - val_acc: 0.5843\n",
      "Epoch 11/30\n",
      "2272/2319 [============================>.] - ETA: 0s - loss: 6.4034 - acc: 0.5836\n",
      "Epoch 00011: val_acc did not improve from 0.58426\n",
      "2319/2319 [==============================] - 3s 1ms/sample - loss: 6.3964 - acc: 0.5841 - val_loss: 6.3937 - val_acc: 0.5843\n",
      "Epoch 12/30\n",
      "2272/2319 [============================>.] - ETA: 0s - loss: 6.4034 - acc: 0.5836\n",
      "Epoch 00012: val_acc did not improve from 0.58426\n",
      "2319/2319 [==============================] - 3s 1ms/sample - loss: 6.3964 - acc: 0.5841 - val_loss: 6.3937 - val_acc: 0.5843\n",
      "Epoch 13/30\n",
      "2304/2319 [============================>.] - ETA: 0s - loss: 6.3979 - acc: 0.5840\n",
      "Epoch 00013: val_acc did not improve from 0.58426\n",
      "2319/2319 [==============================] - 3s 1ms/sample - loss: 6.3964 - acc: 0.5841 - val_loss: 6.3937 - val_acc: 0.5843\n",
      "Epoch 14/30\n",
      "2304/2319 [============================>.] - ETA: 0s - loss: 6.3946 - acc: 0.5842\n",
      "Epoch 00014: val_acc did not improve from 0.58426\n",
      "2319/2319 [==============================] - 3s 1ms/sample - loss: 6.3964 - acc: 0.5841 - val_loss: 6.3937 - val_acc: 0.5843\n",
      "Epoch 15/30\n",
      "2304/2319 [============================>.] - ETA: 0s - loss: 6.4013 - acc: 0.5838\n",
      "Epoch 00015: val_acc did not improve from 0.58426\n",
      "2319/2319 [==============================] - 3s 1ms/sample - loss: 6.3964 - acc: 0.5841 - val_loss: 6.3937 - val_acc: 0.5843\n",
      "Epoch 16/30\n",
      "2272/2319 [============================>.] - ETA: 0s - loss: 6.3899 - acc: 0.5845\n",
      "Epoch 00016: val_acc did not improve from 0.58426\n",
      "2319/2319 [==============================] - 3s 1ms/sample - loss: 6.3964 - acc: 0.5841 - val_loss: 6.3937 - val_acc: 0.5843\n",
      "Epoch 17/30\n",
      "2272/2319 [============================>.] - ETA: 0s - loss: 6.3967 - acc: 0.5841\n",
      "Epoch 00017: val_acc did not improve from 0.58426\n",
      "2319/2319 [==============================] - 3s 1ms/sample - loss: 6.3964 - acc: 0.5841 - val_loss: 6.3937 - val_acc: 0.5843\n",
      "Epoch 18/30\n",
      "2272/2319 [============================>.] - ETA: 0s - loss: 6.4068 - acc: 0.5834- ETA: 1s - loss: 6.58\n",
      "Epoch 00018: val_acc did not improve from 0.58426\n",
      "2319/2319 [==============================] - 2s 1ms/sample - loss: 6.3964 - acc: 0.5841 - val_loss: 6.3937 - val_acc: 0.5843\n",
      "Epoch 19/30\n",
      "2272/2319 [============================>.] - ETA: 0s - loss: 6.4001 - acc: 0.5838\n",
      "Epoch 00019: val_acc did not improve from 0.58426\n",
      "2319/2319 [==============================] - 3s 1ms/sample - loss: 6.3964 - acc: 0.5841 - val_loss: 6.3937 - val_acc: 0.5843\n",
      "Epoch 20/30\n",
      "2272/2319 [============================>.] - ETA: 0s - loss: 6.4136 - acc: 0.5830\n",
      "Epoch 00020: val_acc did not improve from 0.58426\n",
      "2319/2319 [==============================] - 3s 1ms/sample - loss: 6.3964 - acc: 0.5841 - val_loss: 6.3937 - val_acc: 0.5843\n",
      "Epoch 21/30\n",
      "2272/2319 [============================>.] - ETA: 0s - loss: 6.4034 - acc: 0.5836\n",
      "Epoch 00021: val_acc did not improve from 0.58426\n",
      "2319/2319 [==============================] - 3s 1ms/sample - loss: 6.3964 - acc: 0.5841 - val_loss: 6.3937 - val_acc: 0.5843\n",
      "Epoch 22/30\n",
      "2272/2319 [============================>.] - ETA: 0s - loss: 6.4001 - acc: 0.5838\n",
      "Epoch 00022: val_acc did not improve from 0.58426\n",
      "2319/2319 [==============================] - 3s 1ms/sample - loss: 6.3964 - acc: 0.5841 - val_loss: 6.3937 - val_acc: 0.5843\n",
      "Epoch 23/30\n",
      "2272/2319 [============================>.] - ETA: 0s - loss: 6.3899 - acc: 0.5845\n",
      "Epoch 00023: val_acc did not improve from 0.58426\n",
      "2319/2319 [==============================] - 3s 1ms/sample - loss: 6.3964 - acc: 0.5841 - val_loss: 6.3937 - val_acc: 0.5843\n",
      "Epoch 24/30\n",
      "2272/2319 [============================>.] - ETA: 0s - loss: 6.4034 - acc: 0.5836\n",
      "Epoch 00024: val_acc did not improve from 0.58426\n",
      "2319/2319 [==============================] - 3s 1ms/sample - loss: 6.3964 - acc: 0.5841 - val_loss: 6.3937 - val_acc: 0.5843\n",
      "Epoch 25/30\n",
      "2272/2319 [============================>.] - ETA: 0s - loss: 6.3933 - acc: 0.5843\n",
      "Epoch 00025: val_acc did not improve from 0.58426\n",
      "2319/2319 [==============================] - 3s 1ms/sample - loss: 6.3964 - acc: 0.5841 - val_loss: 6.3937 - val_acc: 0.5843\n",
      "Epoch 26/30\n",
      "2272/2319 [============================>.] - ETA: 0s - loss: 6.3933 - acc: 0.5843\n",
      "Epoch 00026: val_acc did not improve from 0.58426\n",
      "2319/2319 [==============================] - 3s 1ms/sample - loss: 6.3964 - acc: 0.5841 - val_loss: 6.3937 - val_acc: 0.5843\n",
      "Epoch 27/30\n",
      "2272/2319 [============================>.] - ETA: 0s - loss: 6.3933 - acc: 0.5843\n",
      "Epoch 00027: val_acc did not improve from 0.58426\n",
      "2319/2319 [==============================] - 3s 1ms/sample - loss: 6.3964 - acc: 0.5841 - val_loss: 6.3937 - val_acc: 0.5843\n",
      "Epoch 28/30\n",
      "2272/2319 [============================>.] - ETA: 0s - loss: 6.3899 - acc: 0.5845\n",
      "Epoch 00028: val_acc did not improve from 0.58426\n",
      "2319/2319 [==============================] - 3s 1ms/sample - loss: 6.3964 - acc: 0.5841 - val_loss: 6.3937 - val_acc: 0.5843\n",
      "Epoch 29/30\n",
      "2272/2319 [============================>.] - ETA: 0s - loss: 6.4001 - acc: 0.5838\n",
      "Epoch 00029: val_acc did not improve from 0.58426\n",
      "2319/2319 [==============================] - 3s 1ms/sample - loss: 6.3964 - acc: 0.5841 - val_loss: 6.3937 - val_acc: 0.5843\n",
      "Epoch 30/30\n",
      "2272/2319 [============================>.] - ETA: 0s - loss: 6.4034 - acc: 0.5836\n",
      "Epoch 00030: val_acc did not improve from 0.58426\n",
      "2319/2319 [==============================] - 3s 1ms/sample - loss: 6.3964 - acc: 0.5841 - val_loss: 6.3937 - val_acc: 0.5843\n"
     ]
    }
   ],
   "source": [
    "from tensorflow.keras.optimizers import Adam\n",
    "\n",
    "INIT_LR = 1e-1\n",
    "EPOCHS = 30\n",
    "\n",
    "opt = Adam(lr=INIT_LR, decay=INIT_LR / EPOCHS)\n",
    "\n",
    "model.compile(loss=\"binary_crossentropy\", optimizer=opt, metrics=[\"accuracy\"])\n",
    "\n",
    "from tensorflow.keras.callbacks import ModelCheckpoint\n",
    "\n",
    "checkpoint = ModelCheckpoint('VGG16.h5', verbose=1, monitor='val_acc', save_best_only=True, mode='auto') \n",
    "\n",
    "history = model.fit(train_features, train_labels,\n",
    "                    epochs=30,\n",
    "                    batch_size=batch_size,\n",
    "                    validation_data=(validation_features, validation_labels),\n",
    "                    callbacks=[checkpoint])"
   ]
  },
  {
   "cell_type": "markdown",
   "metadata": {},
   "source": [
    "### VGG16 (Frozen first 3)"
   ]
  },
  {
   "cell_type": "code",
   "execution_count": 81,
   "metadata": {
    "ExecuteTime": {
     "end_time": "2019-12-18T19:26:19.707566Z",
     "start_time": "2019-12-18T19:26:18.874210Z"
    }
   },
   "outputs": [
    {
     "name": "stdout",
     "output_type": "stream",
     "text": [
      "Found 2319 images belonging to 4 classes.\n",
      "Found 991 images belonging to 4 classes.\n"
     ]
    }
   ],
   "source": [
    "datagen = ImageDataGenerator(\n",
    "    rotation_range=30, width_shift_range=0.15,\n",
    "    height_shift_range=0.15, shear_range=0.15, \n",
    "    zoom_range=0.2,horizontal_flip=True, \n",
    "    fill_mode=\"nearest\", validation_split=0.3)\n",
    "batch_size = 32\n",
    "\n",
    "train_generator = datagen.flow_from_directory(\n",
    "    base_dir,\n",
    "    target_size=(224, 224),\n",
    "    batch_size=batch_size,\n",
    "    class_mode='categorical',\n",
    "    subset='training')\n",
    "\n",
    "val_generator = datagen.flow_from_directory(\n",
    "    base_dir,\n",
    "    target_size=(224, 224),\n",
    "    batch_size=batch_size,\n",
    "    class_mode='categorical',\n",
    "    subset='validation')"
   ]
  },
  {
   "cell_type": "code",
   "execution_count": 84,
   "metadata": {
    "ExecuteTime": {
     "end_time": "2019-12-18T19:26:23.784869Z",
     "start_time": "2019-12-18T19:26:23.748783Z"
    }
   },
   "outputs": [],
   "source": [
    "conv_base.trainable = True\n",
    "\n",
    "set_trainable = False\n",
    "for layer in conv_base.layers:\n",
    "    if layer.name == 'block4_conv1':\n",
    "        set_trainable = True\n",
    "    if set_trainable:\n",
    "        layer.trainable = True\n",
    "    else:\n",
    "        layer.trainable = False"
   ]
  },
  {
   "cell_type": "code",
   "execution_count": 99,
   "metadata": {
    "ExecuteTime": {
     "end_time": "2019-12-19T06:59:35.594530Z",
     "start_time": "2019-12-19T06:59:29.974669Z"
    }
   },
   "outputs": [],
   "source": [
    "model = models.Sequential()\n",
    "model.add(conv_base)\n",
    "model.add(layers.Flatten())\n",
    "model.add(layers.Dense(256, activation='relu', input_dim=7 * 7 * 512))\n",
    "# model.add(layers.Dropout(0.2))\n",
    "model.add(layers.Dense(128, activation='relu'))\n",
    "# model.add(layers.Dropout(0.2))  #Removing 50% of the weights!\n",
    "model.add(layers.Dense(4, activation='softmax'))"
   ]
  },
  {
   "cell_type": "code",
   "execution_count": 86,
   "metadata": {
    "ExecuteTime": {
     "end_time": "2019-12-18T23:55:16.065526Z",
     "start_time": "2019-12-18T19:26:24.722747Z"
    },
    "scrolled": true
   },
   "outputs": [
    {
     "name": "stdout",
     "output_type": "stream",
     "text": [
      "Epoch 1/30\n",
      "71/72 [============================>.] - ETA: 6s - loss: 4.5213 - acc: 0.7051 \n",
      "Epoch 00001: val_acc improved from -inf to 0.72200, saving model to VGG16_frozen4.h5\n",
      "72/72 [==============================] - 550s 8s/step - loss: 4.5388 - acc: 0.7040 - val_loss: 4.2754 - val_acc: 0.7220\n",
      "Epoch 2/30\n",
      "71/72 [============================>.] - ETA: 5s - loss: 4.2951 - acc: 0.7206 \n",
      "Epoch 00002: val_acc did not improve from 0.72200\n",
      "72/72 [==============================] - 535s 7s/step - loss: 4.2922 - acc: 0.7208 - val_loss: 4.2761 - val_acc: 0.7220\n",
      "Epoch 3/30\n",
      "71/72 [============================>.] - ETA: 5s - loss: 4.2723 - acc: 0.7226 \n",
      "Epoch 00003: val_acc did not improve from 0.72200\n",
      "72/72 [==============================] - 535s 7s/step - loss: 4.2596 - acc: 0.7234 - val_loss: 4.2754 - val_acc: 0.7220\n",
      "Epoch 4/30\n",
      "71/72 [============================>.] - ETA: 5s - loss: 4.3019 - acc: 0.7202 \n",
      "Epoch 00004: val_acc did not improve from 0.72200\n",
      "72/72 [==============================] - 537s 7s/step - loss: 4.2922 - acc: 0.7208 - val_loss: 4.2754 - val_acc: 0.7220\n",
      "Epoch 5/30\n",
      "71/72 [============================>.] - ETA: 5s - loss: 4.2613 - acc: 0.7228 \n",
      "Epoch 00005: val_acc did not improve from 0.72200\n",
      "72/72 [==============================] - 537s 7s/step - loss: 4.2689 - acc: 0.7223 - val_loss: 4.2751 - val_acc: 0.7220\n",
      "Epoch 6/30\n",
      "71/72 [============================>.] - ETA: 5s - loss: 4.3082 - acc: 0.7195 \n",
      "Epoch 00006: val_acc did not improve from 0.72200\n",
      "72/72 [==============================] - 537s 7s/step - loss: 4.3085 - acc: 0.7195 - val_loss: 4.2749 - val_acc: 0.7220\n",
      "Epoch 7/30\n",
      "71/72 [============================>.] - ETA: 6s - loss: 4.2667 - acc: 0.7217 \n",
      "Epoch 00007: val_acc did not improve from 0.72200\n",
      "72/72 [==============================] - 551s 8s/step - loss: 4.2477 - acc: 0.7230 - val_loss: 4.2754 - val_acc: 0.7220\n",
      "Epoch 8/30\n",
      "71/72 [============================>.] - ETA: 6s - loss: 4.2644 - acc: 0.7227 \n",
      "Epoch 00008: val_acc did not improve from 0.72200\n",
      "72/72 [==============================] - 540s 7s/step - loss: 4.2720 - acc: 0.7222 - val_loss: 4.2749 - val_acc: 0.7220\n",
      "Epoch 9/30\n",
      "71/72 [============================>.] - ETA: 5s - loss: 4.3051 - acc: 0.7196 \n",
      "Epoch 00009: val_acc did not improve from 0.72200\n",
      "72/72 [==============================] - 533s 7s/step - loss: 4.3054 - acc: 0.7196 - val_loss: 4.2741 - val_acc: 0.7220\n",
      "Epoch 10/30\n",
      "71/72 [============================>.] - ETA: 5s - loss: 4.2177 - acc: 0.7259 \n",
      "Epoch 00010: val_acc did not improve from 0.72200\n",
      "72/72 [==============================] - 535s 7s/step - loss: 4.2325 - acc: 0.7250 - val_loss: 4.2746 - val_acc: 0.7220\n",
      "Epoch 11/30\n",
      "71/72 [============================>.] - ETA: 5s - loss: 4.2791 - acc: 0.7222 \n",
      "Epoch 00011: val_acc did not improve from 0.72200\n",
      "72/72 [==============================] - 536s 7s/step - loss: 4.2797 - acc: 0.7221 - val_loss: 4.2749 - val_acc: 0.7220\n",
      "Epoch 12/30\n",
      "71/72 [============================>.] - ETA: 5s - loss: 4.3084 - acc: 0.7199 \n",
      "Epoch 00012: val_acc did not improve from 0.72200\n",
      "72/72 [==============================] - 538s 7s/step - loss: 4.3120 - acc: 0.7196 - val_loss: 4.2756 - val_acc: 0.7220\n",
      "Epoch 13/30\n",
      "71/72 [============================>.] - ETA: 5s - loss: 4.2509 - acc: 0.7232 \n",
      "Epoch 00013: val_acc did not improve from 0.72200\n",
      "72/72 [==============================] - 537s 7s/step - loss: 4.2487 - acc: 0.7233 - val_loss: 4.2741 - val_acc: 0.7220\n",
      "Epoch 14/30\n",
      "71/72 [============================>.] - ETA: 5s - loss: 4.2782 - acc: 0.7217 \n",
      "Epoch 00014: val_acc did not improve from 0.72200\n",
      "72/72 [==============================] - 542s 8s/step - loss: 4.2789 - acc: 0.7217 - val_loss: 4.2761 - val_acc: 0.7220\n",
      "Epoch 15/30\n",
      "71/72 [============================>.] - ETA: 5s - loss: 4.3134 - acc: 0.7202 \n",
      "Epoch 00015: val_acc did not improve from 0.72200\n",
      "72/72 [==============================] - 535s 7s/step - loss: 4.3001 - acc: 0.7210 - val_loss: 4.2756 - val_acc: 0.7220\n",
      "Epoch 16/30\n",
      "71/72 [============================>.] - ETA: 5s - loss: 4.2850 - acc: 0.7213 \n",
      "Epoch 00016: val_acc did not improve from 0.72200\n",
      "72/72 [==============================] - 535s 7s/step - loss: 4.2755 - acc: 0.7219 - val_loss: 4.2759 - val_acc: 0.7220\n",
      "Epoch 17/30\n",
      "71/72 [============================>.] - ETA: 6s - loss: 4.2543 - acc: 0.7234 \n",
      "Epoch 00017: val_acc did not improve from 0.72200\n",
      "72/72 [==============================] - 539s 7s/step - loss: 4.2620 - acc: 0.7229 - val_loss: 4.2744 - val_acc: 0.7220\n",
      "Epoch 18/30\n",
      "71/72 [============================>.] - ETA: 5s - loss: 4.3141 - acc: 0.7203 \n",
      "Epoch 00018: val_acc did not improve from 0.72200\n",
      "72/72 [==============================] - 532s 7s/step - loss: 4.3107 - acc: 0.7205 - val_loss: 4.2739 - val_acc: 0.7220\n",
      "Epoch 19/30\n",
      "71/72 [============================>.] - ETA: 5s - loss: 4.2566 - acc: 0.7224 \n",
      "Epoch 00019: val_acc did not improve from 0.72200\n",
      "72/72 [==============================] - 535s 7s/step - loss: 4.2510 - acc: 0.7228 - val_loss: 4.2749 - val_acc: 0.7220\n",
      "Epoch 20/30\n",
      "71/72 [============================>.] - ETA: 5s - loss: 4.2227 - acc: 0.7246 \n",
      "Epoch 00020: val_acc did not improve from 0.72200\n",
      "72/72 [==============================] - 538s 7s/step - loss: 4.2210 - acc: 0.7247 - val_loss: 4.2751 - val_acc: 0.7220\n",
      "Epoch 21/30\n",
      "71/72 [============================>.] - ETA: 5s - loss: 4.3121 - acc: 0.7195 \n",
      "Epoch 00021: val_acc did not improve from 0.72200\n",
      "72/72 [==============================] - 536s 7s/step - loss: 4.3056 - acc: 0.7199 - val_loss: 4.2761 - val_acc: 0.7220\n",
      "Epoch 22/30\n",
      "71/72 [============================>.] - ETA: 5s - loss: 4.3116 - acc: 0.7193 \n",
      "Epoch 00022: val_acc did not improve from 0.72200\n",
      "72/72 [==============================] - 537s 7s/step - loss: 4.3085 - acc: 0.7195 - val_loss: 4.2741 - val_acc: 0.7220\n",
      "Epoch 23/30\n",
      "71/72 [============================>.] - ETA: 5s - loss: 4.3048 - acc: 0.7197 \n",
      "Epoch 00023: val_acc did not improve from 0.72200\n",
      "72/72 [==============================] - 535s 7s/step - loss: 4.2985 - acc: 0.7202 - val_loss: 4.2764 - val_acc: 0.7220\n",
      "Epoch 24/30\n",
      "71/72 [============================>.] - ETA: 6s - loss: 4.1798 - acc: 0.7282 \n",
      "Epoch 00024: val_acc did not improve from 0.72200\n",
      "72/72 [==============================] - 540s 7s/step - loss: 4.1752 - acc: 0.7285 - val_loss: 4.2754 - val_acc: 0.7220\n",
      "Epoch 25/30\n",
      "71/72 [============================>.] - ETA: 5s - loss: 4.3330 - acc: 0.7183 \n",
      "Epoch 00025: val_acc did not improve from 0.72200\n",
      "72/72 [==============================] - 532s 7s/step - loss: 4.3263 - acc: 0.7187 - val_loss: 4.2751 - val_acc: 0.7220\n",
      "Epoch 26/30\n",
      "71/72 [============================>.] - ETA: 5s - loss: 4.3186 - acc: 0.7192 \n",
      "Epoch 00026: val_acc did not improve from 0.72200\n",
      "72/72 [==============================] - 537s 7s/step - loss: 4.3187 - acc: 0.7192 - val_loss: 4.2759 - val_acc: 0.7220\n",
      "Epoch 27/30\n",
      "71/72 [============================>.] - ETA: 5s - loss: 4.2836 - acc: 0.7223 \n",
      "Epoch 00027: val_acc did not improve from 0.72200\n",
      "72/72 [==============================] - 537s 7s/step - loss: 4.2974 - acc: 0.7214 - val_loss: 4.2751 - val_acc: 0.7220\n",
      "Epoch 28/30\n",
      "71/72 [============================>.] - ETA: 5s - loss: 4.2105 - acc: 0.7262 \n",
      "Epoch 00028: val_acc did not improve from 0.72200\n",
      "72/72 [==============================] - 536s 7s/step - loss: 4.2055 - acc: 0.7265 - val_loss: 4.2754 - val_acc: 0.7220\n",
      "Epoch 29/30\n",
      "71/72 [============================>.] - ETA: 5s - loss: 4.2613 - acc: 0.7228 \n",
      "Epoch 00029: val_acc did not improve from 0.72200\n",
      "72/72 [==============================] - 536s 7s/step - loss: 4.2655 - acc: 0.7226 - val_loss: 4.2756 - val_acc: 0.7220\n",
      "Epoch 30/30\n",
      "71/72 [============================>.] - ETA: 5s - loss: 4.3024 - acc: 0.7204 \n",
      "Epoch 00030: val_acc did not improve from 0.72200\n",
      "72/72 [==============================] - 535s 7s/step - loss: 4.3060 - acc: 0.7202 - val_loss: 4.2759 - val_acc: 0.7220\n"
     ]
    }
   ],
   "source": [
    "from tensorflow.keras.optimizers import Adam\n",
    "\n",
    "INIT_LR = 1e-3\n",
    "EPOCHS = 30\n",
    "\n",
    "opt = Adam(lr=INIT_LR, decay=INIT_LR / EPOCHS)\n",
    "\n",
    "model.compile(loss=\"binary_crossentropy\", optimizer=opt, metrics=[\"accuracy\"])\n",
    "\n",
    "from tensorflow.keras.callbacks import ModelCheckpoint\n",
    "\n",
    "checkpoint = ModelCheckpoint('VGG16_frozen3.h5', verbose=1, monitor='val_acc', save_best_only=True, mode='auto') \n",
    "\n",
    "history = model.fit_generator(train_generator,\n",
    "                    epochs=30,\n",
    "                    steps_per_epoch=2319 // batch_size,\n",
    "                    validation_data=val_generator,\n",
    "                    callbacks=[checkpoint])"
   ]
  },
  {
   "cell_type": "markdown",
   "metadata": {},
   "source": [
    "### VGG19"
   ]
  },
  {
   "cell_type": "code",
   "execution_count": 11,
   "metadata": {
    "ExecuteTime": {
     "end_time": "2019-12-18T01:37:59.154795Z",
     "start_time": "2019-12-18T01:37:58.792930Z"
    }
   },
   "outputs": [
    {
     "name": "stdout",
     "output_type": "stream",
     "text": [
      "Found 2351 images belonging to 4 classes.\n",
      "Found 1004 images belonging to 4 classes.\n"
     ]
    }
   ],
   "source": [
    "datagen = ImageDataGenerator(\n",
    "    rotation_range=30, width_shift_range=0.15,\n",
    "    height_shift_range=0.15, shear_range=0.15, \n",
    "    zoom_range=0.2,horizontal_flip=True, \n",
    "    fill_mode=\"nearest\", validation_split=0.3)\n",
    "batch_size = 32\n",
    "\n",
    "train_generator = datagen.flow_from_directory(\n",
    "    base_dir,\n",
    "    target_size=(224, 224),\n",
    "    batch_size=batch_size,\n",
    "    class_mode='categorical',\n",
    "    subset='training')\n",
    "\n",
    "val_generator = datagen.flow_from_directory(\n",
    "    base_dir,\n",
    "    target_size=(224, 224),\n",
    "    batch_size=batch_size,\n",
    "    class_mode='categorical',\n",
    "    subset='validation')"
   ]
  },
  {
   "cell_type": "code",
   "execution_count": 12,
   "metadata": {
    "ExecuteTime": {
     "end_time": "2019-12-17T20:20:53.549141Z",
     "start_time": "2019-12-17T20:20:53.542160Z"
    }
   },
   "outputs": [],
   "source": [
    "def extract_features19(trainorval, sample_count):\n",
    "    features = np.zeros(shape=(sample_count, 7, 7, 512))\n",
    "    labels = np.zeros(shape=(sample_count, 4))\n",
    "    if trainorval==\"training\":\n",
    "        generator = train_generator\n",
    "    else:\n",
    "        generator = val_generator\n",
    "    i = 0\n",
    "    for inputs_batch, labels_batch in generator:\n",
    "        features_batch = conv_base19.predict(preprocess_input(inputs_batch))\n",
    "        try:\n",
    "            features[i * batch_size : (i + 1) * batch_size] = features_batch\n",
    "            labels[i * batch_size : (i + 1) * batch_size] = labels_batch\n",
    "        except ValueError:\n",
    "            break\n",
    "        if i==0:\n",
    "            print(\"one down\")\n",
    "        i += 1\n",
    "        if i * batch_size >= sample_count:\n",
    "            break\n",
    "    return features, labels"
   ]
  },
  {
   "cell_type": "code",
   "execution_count": 13,
   "metadata": {
    "ExecuteTime": {
     "end_time": "2019-12-17T20:20:54.743492Z",
     "start_time": "2019-12-17T20:20:53.975497Z"
    }
   },
   "outputs": [],
   "source": [
    "from tensorflow.keras.applications.vgg19 import VGG19, preprocess_input\n",
    "\n",
    "conv_base19 = VGG19(weights='imagenet',\n",
    "                  include_top=False,\n",
    "                  input_shape=(224, 224, 3))"
   ]
  },
  {
   "cell_type": "code",
   "execution_count": 14,
   "metadata": {
    "ExecuteTime": {
     "end_time": "2019-12-18T01:21:12.543085Z",
     "start_time": "2019-12-18T01:21:12.538131Z"
    }
   },
   "outputs": [
    {
     "name": "stdout",
     "output_type": "stream",
     "text": [
      "one down\n",
      "one down\n"
     ]
    }
   ],
   "source": [
    "train_features19, train_labels19 = extract_features19('training', 2351)\n",
    "validation_features19, validation_labels19 = extract_features19('validation', 1004)\n",
    "\n",
    "train_features19 = np.reshape(train_features19, (2351, 7 * 7 * 512))\n",
    "validation_features19 = np.reshape(validation_features19, (1004, 7 * 7 * 512))"
   ]
  },
  {
   "cell_type": "code",
   "execution_count": 15,
   "metadata": {
    "ExecuteTime": {
     "end_time": "2019-12-18T02:38:52.958494Z",
     "start_time": "2019-12-18T02:38:52.815287Z"
    }
   },
   "outputs": [],
   "source": [
    "model = models.Sequential()\n",
    "model.add(layers.Dense(256, activation='relu', input_dim=7 * 7 * 512))\n",
    "model.add(layers.Dropout(0.5))\n",
    "model.add(layers.Dense(128, activation='relu'))\n",
    "model.add(layers.Dropout(0.5))  #Removing 50% of the weights!\n",
    "model.add(layers.Dense(4, activation='softmax'))"
   ]
  },
  {
   "cell_type": "code",
   "execution_count": 16,
   "metadata": {
    "ExecuteTime": {
     "end_time": "2019-12-18T02:40:20.354185Z",
     "start_time": "2019-12-18T02:38:53.081709Z"
    },
    "scrolled": true
   },
   "outputs": [
    {
     "name": "stdout",
     "output_type": "stream",
     "text": [
      "Train on 2351 samples, validate on 1004 samples\n",
      "Epoch 1/30\n",
      "2336/2351 [============================>.] - ETA: 0s - loss: 4.3105 - accuracy: 0.7032WARNING:tensorflow:Can save best model only with val_acc available, skipping.\n",
      "2351/2351 [==============================] - 2s 852us/sample - loss: 4.2961 - accuracy: 0.7043 - val_loss: 4.2620 - val_accuracy: 0.7221\n",
      "Epoch 2/30\n",
      "2336/2351 [============================>.] - ETA: 0s - loss: 4.2796 - accuracy: 0.7198WARNING:tensorflow:Can save best model only with val_acc available, skipping.\n",
      "2351/2351 [==============================] - 1s 572us/sample - loss: 4.2686 - accuracy: 0.7205 - val_loss: 4.2620 - val_accuracy: 0.7221\n",
      "Epoch 3/30\n",
      "2304/2351 [============================>.] - ETA: 0s - loss: 4.2655 - accuracy: 0.7216WARNING:tensorflow:Can save best model only with val_acc available, skipping.\n",
      "2351/2351 [==============================] - 1s 578us/sample - loss: 4.2650 - accuracy: 0.7216 - val_loss: 4.2620 - val_accuracy: 0.7221\n",
      "Epoch 4/30\n",
      "2336/2351 [============================>.] - ETA: 0s - loss: 4.2626 - accuracy: 0.7220WARNING:tensorflow:Can save best model only with val_acc available, skipping.\n",
      "2351/2351 [==============================] - 1s 579us/sample - loss: 4.2713 - accuracy: 0.7214 - val_loss: 4.2620 - val_accuracy: 0.7221\n",
      "Epoch 5/30\n",
      "2240/2351 [===========================>..] - ETA: 0s - loss: 4.2930 - accuracy: 0.7201 ETA: 0s - loss: 4.2793 WARNING:tensorflow:Can save best model only with val_acc available, skipping.\n",
      "2351/2351 [==============================] - 2s 653us/sample - loss: 4.2697 - accuracy: 0.7216 - val_loss: 4.2620 - val_accuracy: 0.7221\n",
      "Epoch 6/30\n",
      "2304/2351 [============================>.] - ETA: 0s - loss: 4.2967 - accuracy: 0.7198WARNING:tensorflow:Can save best model only with val_acc available, skipping.\n",
      "2351/2351 [==============================] - 1s 613us/sample - loss: 4.2695 - accuracy: 0.7216 - val_loss: 4.2620 - val_accuracy: 0.7221\n",
      "Epoch 7/30\n",
      "2240/2351 [===========================>..] - ETA: 0s - loss: 4.2761 - accuracy: 0.7210 ETA: 1s - lWARNING:tensorflow:Can save best model only with val_acc available, skipping.\n",
      "2351/2351 [==============================] - 1s 617us/sample - loss: 4.2797 - accuracy: 0.7208 - val_loss: 4.2620 - val_accuracy: 0.7221\n",
      "Epoch 8/30\n",
      "2336/2351 [============================>.] - ETA: 0s - loss: 4.2732 - accuracy: 0.7213 ETA: 0s - loss: 4.3820 - accuracy: 0.71 - ETA: 0s - loss: 4.3451 - accuWARNING:tensorflow:Can save best model only with val_acc available, skipping.\n",
      "2351/2351 [==============================] - 1s 626us/sample - loss: 4.2720 - accuracy: 0.7214 - val_loss: 4.2620 - val_accuracy: 0.7221\n",
      "Epoch 9/30\n",
      "2240/2351 [===========================>..] - ETA: 0s - loss: 4.2485 - accuracy: 0.7230WARNING:tensorflow:Can save best model only with val_acc available, skipping.\n",
      "2351/2351 [==============================] - 1s 619us/sample - loss: 4.2697 - accuracy: 0.7216 - val_loss: 4.2620 - val_accuracy: 0.7221\n",
      "Epoch 10/30\n",
      "2240/2351 [===========================>..] - ETA: 0s - loss: 4.2654 - accuracy: 0.7219WARNING:tensorflow:Can save best model only with val_acc available, skipping.\n",
      "2351/2351 [==============================] - 1s 622us/sample - loss: 4.2696 - accuracy: 0.7216 - val_loss: 4.2620 - val_accuracy: 0.7221\n",
      "Epoch 11/30\n",
      "2336/2351 [============================>.] - ETA: 0s - loss: 4.2807 - accuracy: 0.7209 ETA: 0s - loss: 4.2083 - accuracy:  - ETA: 0s - loss: 4.2457 - accuraWARNING:tensorflow:Can save best model only with val_acc available, skipping.\n",
      "2351/2351 [==============================] - 1s 610us/sample - loss: 4.2697 - accuracy: 0.7216 - val_loss: 4.2620 - val_accuracy: 0.7221\n",
      "Epoch 12/30\n",
      "2240/2351 [===========================>..] - ETA: 0s - loss: 4.2999 - accuracy: 0.7196WARNING:tensorflow:Can save best model only with val_acc available, skipping.\n",
      "2351/2351 [==============================] - 1s 625us/sample - loss: 4.2697 - accuracy: 0.7216 - val_loss: 4.2620 - val_accuracy: 0.7221\n",
      "Epoch 13/30\n",
      "2272/2351 [===========================>..] - ETA: 0s - loss: 4.2899 - accuracy: 0.7203 ETA: 0s - loss: 4WARNING:tensorflow:Can save best model only with val_acc available, skipping.\n",
      "2351/2351 [==============================] - 1s 616us/sample - loss: 4.2697 - accuracy: 0.7216 - val_loss: 4.2620 - val_accuracy: 0.7221\n",
      "Epoch 14/30\n",
      "2304/2351 [============================>.] - ETA: 0s - loss: 4.2959 - accuracy: 0.7199 ETA: 0s - loss: 4.2 - ETA: 0s - loss: 4.2869 - accuracy: 0.7205WARNING:tensorflow:Can save best model only with val_acc available, skipping.\n",
      "2351/2351 [==============================] - 1s 617us/sample - loss: 4.2730 - accuracy: 0.7214 - val_loss: 4.2620 - val_accuracy: 0.7221\n",
      "Epoch 15/30\n",
      "2336/2351 [============================>.] - ETA: 0s - loss: 4.2676 - accuracy: 0.7217WARNING:tensorflow:Can save best model only with val_acc available, skipping.\n",
      "2351/2351 [==============================] - 1s 635us/sample - loss: 4.2697 - accuracy: 0.7216 - val_loss: 4.2620 - val_accuracy: 0.7221\n",
      "Epoch 16/30\n",
      "2336/2351 [============================>.] - ETA: 0s - loss: 4.2643 - accuracy: 0.7220WARNING:tensorflow:Can save best model only with val_acc available, skipping.\n",
      "2351/2351 [==============================] - 1s 633us/sample - loss: 4.2665 - accuracy: 0.7218 - val_loss: 4.2620 - val_accuracy: 0.7221\n",
      "Epoch 17/30\n",
      "2336/2351 [============================>.] - ETA: 0s - loss: 4.2772 - accuracy: 0.7209WARNING:tensorflow:Can save best model only with val_acc available, skipping.\n",
      "2351/2351 [==============================] - 1s 622us/sample - loss: 4.2727 - accuracy: 0.7212 - val_loss: 4.2620 - val_accuracy: 0.7221\n",
      "Epoch 18/30\n",
      "2336/2351 [============================>.] - ETA: 0s - loss: 4.2865 - accuracy: 0.7200 ETA: 0s - losWARNING:tensorflow:Can save best model only with val_acc available, skipping.\n",
      "2351/2351 [==============================] - 1s 610us/sample - loss: 4.2819 - accuracy: 0.7203 - val_loss: 4.2620 - val_accuracy: 0.7221\n",
      "Epoch 19/30\n",
      "2336/2351 [============================>.] - ETA: 0s - loss: 4.2997 - accuracy: 0.71 - ETA: 0s - loss: 4.2742 - accuracy: 0.7213WARNING:tensorflow:Can save best model only with val_acc available, skipping.\n",
      "2351/2351 [==============================] - 1s 612us/sample - loss: 4.2730 - accuracy: 0.7214 - val_loss: 4.2620 - val_accuracy: 0.7221\n",
      "Epoch 20/30\n",
      "2240/2351 [===========================>..] - ETA: 0s - loss: 4.2885 - accuracy: 0.7203 ETA: 0s - loss: 4.1WARNING:tensorflow:Can save best model only with val_acc available, skipping.\n",
      "2351/2351 [==============================] - 1s 617us/sample - loss: 4.2719 - accuracy: 0.7214 - val_loss: 4.2620 - val_accuracy: 0.7221\n",
      "Epoch 21/30\n",
      "2336/2351 [============================>.] - ETA: 0s - loss: 4.2758 - accuracy: 0.7211WARNING:tensorflow:Can save best model only with val_acc available, skipping.\n",
      "2351/2351 [==============================] - 1s 608us/sample - loss: 4.2713 - accuracy: 0.7214 - val_loss: 4.2620 - val_accuracy: 0.7221\n",
      "Epoch 22/30\n",
      "2272/2351 [===========================>..] - ETA: 0s - loss: 4.2946 - accuracy: 0.7199WARNING:tensorflow:Can save best model only with val_acc available, skipping.\n",
      "2351/2351 [==============================] - 1s 613us/sample - loss: 4.2709 - accuracy: 0.7214 - val_loss: 4.2620 - val_accuracy: 0.7221\n",
      "Epoch 23/30\n",
      "2336/2351 [============================>.] - ETA: 0s - loss: 4.2873 - accuracy: 0.7205WARNING:tensorflow:Can save best model only with val_acc available, skipping.\n",
      "2351/2351 [==============================] - 1s 609us/sample - loss: 4.2697 - accuracy: 0.7216 - val_loss: 4.2620 - val_accuracy: 0.7221\n",
      "Epoch 24/30\n",
      "2304/2351 [============================>.] - ETA: 0s - loss: 4.2783 - accuracy: 0.72 - ETA: 0s - loss: 4.2736 - accuracy: 0.7214WARNING:tensorflow:Can save best model only with val_acc available, skipping.\n",
      "2351/2351 [==============================] - 1s 612us/sample - loss: 4.2697 - accuracy: 0.7216 - val_loss: 4.2620 - val_accuracy: 0.7221\n",
      "Epoch 25/30\n",
      "2304/2351 [============================>.] - ETA: 0s - loss: 4.2636 - accuracy: 0.7220WARNING:tensorflow:Can save best model only with val_acc available, skipping.\n",
      "2351/2351 [==============================] - 1s 617us/sample - loss: 4.2697 - accuracy: 0.7216 - val_loss: 4.2620 - val_accuracy: 0.7221\n"
     ]
    },
    {
     "name": "stdout",
     "output_type": "stream",
     "text": [
      "Epoch 26/30\n",
      "2336/2351 [============================>.] - ETA: 0s - loss: 4.2742 - accuracy: 0.7213WARNING:tensorflow:Can save best model only with val_acc available, skipping.\n",
      "2351/2351 [==============================] - 1s 607us/sample - loss: 4.2697 - accuracy: 0.7216 - val_loss: 4.2620 - val_accuracy: 0.7221\n",
      "Epoch 27/30\n",
      "2240/2351 [===========================>..] - ETA: 0s - loss: 4.2519 - accuracy: 0.7228 ETA: 0s - loss: 4.3WARNING:tensorflow:Can save best model only with val_acc available, skipping.\n",
      "2351/2351 [==============================] - 1s 622us/sample - loss: 4.2697 - accuracy: 0.7216 - val_loss: 4.2620 - val_accuracy: 0.7221\n",
      "Epoch 28/30\n",
      "2336/2351 [============================>.] - ETA: 0s - loss: 4.2610 - accuracy: 0.7222 ETA: 0s - loss: 4WARNING:tensorflow:Can save best model only with val_acc available, skipping.\n",
      "2351/2351 [==============================] - 1s 609us/sample - loss: 4.2697 - accuracy: 0.7216 - val_loss: 4.2620 - val_accuracy: 0.7221\n",
      "Epoch 29/30\n",
      "2336/2351 [============================>.] - ETA: 0s - loss: 4.2643 - accuracy: 0.7220WARNING:tensorflow:Can save best model only with val_acc available, skipping.\n",
      "2351/2351 [==============================] - 1s 605us/sample - loss: 4.2697 - accuracy: 0.7216 - val_loss: 4.2620 - val_accuracy: 0.7221\n",
      "Epoch 30/30\n",
      "2304/2351 [============================>.] - ETA: 0s - loss: 4.2636 - accuracy: 0.7220 ETA: 0s - lWARNING:tensorflow:Can save best model only with val_acc available, skipping.\n",
      "2351/2351 [==============================] - 1s 615us/sample - loss: 4.2697 - accuracy: 0.7216 - val_loss: 4.2620 - val_accuracy: 0.7221\n"
     ]
    }
   ],
   "source": [
    "from tensorflow.keras.optimizers import Adam\n",
    "\n",
    "INIT_LR = 1e-3\n",
    "EPOCHS = 30\n",
    "\n",
    "opt = Adam(lr=INIT_LR, decay=INIT_LR / EPOCHS)\n",
    "\n",
    "model.compile(loss=\"binary_crossentropy\", optimizer=opt, metrics=[\"accuracy\"])\n",
    "\n",
    "from tensorflow.keras.callbacks import ModelCheckpoint\n",
    "\n",
    "checkpoint = ModelCheckpoint('VGG19.h5', verbose=1, monitor='val_acc', save_best_only=True, mode='auto') \n",
    "\n",
    "history = model.fit(train_features19, train_labels19,\n",
    "                    epochs=30,\n",
    "                    batch_size=batch_size,\n",
    "                    validation_data=(validation_features19, validation_labels19),\n",
    "                    callbacks=[checkpoint])"
   ]
  },
  {
   "cell_type": "code",
   "execution_count": 29,
   "metadata": {},
   "outputs": [
    {
     "name": "stdout",
     "output_type": "stream",
     "text": [
      "367/367 [==============================] - 0s 277us/sample - loss: 7.6685 - accuracy: 0.5000\n",
      "Test Accuracy: 50.0\n"
     ]
    }
   ],
   "source": [
    "scores_brownspot = model.evaluate(train_features19[train_labels19[:,0]==1], train_labels19[train_labels19[:,0]==1])\n",
    "print(f\"Test Accuracy: {scores_brownspot[1]*100}\")"
   ]
  },
  {
   "cell_type": "code",
   "execution_count": 30,
   "metadata": {},
   "outputs": [
    {
     "name": "stdout",
     "output_type": "stream",
     "text": [
      "1042/1042 [==============================] - 0s 265us/sample - loss: 0.0000e+00 - accuracy: 1.0000\n",
      "Test Accuracy: 100.0\n"
     ]
    }
   ],
   "source": [
    "scores_healthy = model.evaluate(train_features19[train_labels19[:,1]==1], train_labels19[train_labels19[:,1]==1])\n",
    "print(f\"Test Accuracy: {scores_healthy[1]*100}\")"
   ]
  },
  {
   "cell_type": "code",
   "execution_count": 31,
   "metadata": {},
   "outputs": [
    {
     "name": "stdout",
     "output_type": "stream",
     "text": [
      "396/396 [==============================] - 0s 343us/sample - loss: 7.6685 - accuracy: 0.5000\n",
      "Test Accuracy: 50.0\n"
     ]
    }
   ],
   "source": [
    "scores_hispa = model.evaluate(train_features19[train_labels19[:,2]==1], train_labels19[train_labels19[:,2]==1])\n",
    "print(f\"Test Accuracy: {scores_hispa[1]*100}\")"
   ]
  },
  {
   "cell_type": "code",
   "execution_count": 32,
   "metadata": {},
   "outputs": [
    {
     "name": "stdout",
     "output_type": "stream",
     "text": [
      "546/546 [==============================] - 0s 297us/sample - loss: 7.6685 - accuracy: 0.5000\n",
      "Test Accuracy: 50.0\n"
     ]
    }
   ],
   "source": [
    "scores_leafblast = model.evaluate(train_features19[train_labels19[:,3]==1], train_labels19[train_labels19[:,3]==1])\n",
    "print(f\"Test Accuracy: {scores_leafblast[1]*100}\")"
   ]
  },
  {
   "cell_type": "code",
   "execution_count": 33,
   "metadata": {},
   "outputs": [],
   "source": [
    "# save model\n",
    "model.save(\"D://Moy Hao Zhen/University of Malaya/Sem 5 - Internship Intel/UMHackathon/archive/LabelledRice/vgg19.model\", save_format=\"h5\")"
   ]
  },
  {
   "cell_type": "code",
   "execution_count": 34,
   "metadata": {},
   "outputs": [
    {
     "data": {
      "text/plain": [
       "<tensorflow.python.keras.engine.sequential.Sequential at 0x281caf72ec8>"
      ]
     },
     "execution_count": 34,
     "metadata": {},
     "output_type": "execute_result"
    }
   ],
   "source": [
    "# model = model.load('best_model_5conv2dense.h5')\n",
    "from tensorflow.keras.models import load_model\n",
    "from tensorflow.keras.models import model_from_json\n",
    "\n",
    "# json_file = open('D://Moy Hao Zhen/University of Malaya/Sem 5 - Internship Intel/UMHackathon/archive/LabelledRice/rice_disease_classifer.model', 'r')\n",
    "# loaded_model = model.load\n",
    "# json_file.close()\n",
    "# loaded_model = model_from_json(loaded_model_json)\n",
    "# loaded_model.compile(loss=\"binary_crossentropy\", optimizer=opt,metrics=[\"accuracy\"])\n",
    "\n",
    "# # load weights into new model\n",
    "# loaded_model.load_weights(\"best_model_5conv2dense_woutBG.h5\")\n",
    "model1 = load_model(\"D://Moy Hao Zhen/University of Malaya/Sem 5 - Internship Intel/UMHackathon/archive/LabelledRice/vgg19.model\")\n",
    "model1"
   ]
  },
  {
   "cell_type": "markdown",
   "metadata": {},
   "source": [
    "### XCeption"
   ]
  },
  {
   "cell_type": "code",
   "execution_count": 28,
   "metadata": {
    "ExecuteTime": {
     "end_time": "2019-12-18T01:37:59.154795Z",
     "start_time": "2019-12-18T01:37:58.792930Z"
    }
   },
   "outputs": [
    {
     "name": "stdout",
     "output_type": "stream",
     "text": [
      "Found 2319 images belonging to 4 classes.\n",
      "Found 991 images belonging to 4 classes.\n"
     ]
    }
   ],
   "source": [
    "datagen = ImageDataGenerator(\n",
    "    rotation_range=30, width_shift_range=0.15,\n",
    "    height_shift_range=0.15, shear_range=0.15, \n",
    "    zoom_range=0.2,horizontal_flip=True, \n",
    "    fill_mode=\"nearest\", validation_split=0.3)\n",
    "batch_size = 32\n",
    "\n",
    "train_generator = datagen.flow_from_directory(\n",
    "    base_dir,\n",
    "    target_size=(224, 224),\n",
    "    batch_size=batch_size,\n",
    "    class_mode='categorical',\n",
    "    subset='training')\n",
    "\n",
    "val_generator = datagen.flow_from_directory(\n",
    "    base_dir,\n",
    "    target_size=(224, 224),\n",
    "    batch_size=batch_size,\n",
    "    class_mode='categorical',\n",
    "    subset='validation')"
   ]
  },
  {
   "cell_type": "code",
   "execution_count": 29,
   "metadata": {
    "ExecuteTime": {
     "end_time": "2019-12-18T01:23:39.106815Z",
     "start_time": "2019-12-18T01:23:39.096710Z"
    }
   },
   "outputs": [],
   "source": [
    "from tensorflow.keras.applications.xception import Xception, preprocess_input"
   ]
  },
  {
   "cell_type": "code",
   "execution_count": 30,
   "metadata": {
    "ExecuteTime": {
     "end_time": "2019-12-18T01:23:43.225755Z",
     "start_time": "2019-12-18T01:23:39.202559Z"
    }
   },
   "outputs": [],
   "source": [
    "xception_base = Xception(weights='imagenet',\n",
    "                         include_top=False, \n",
    "                         input_shape=(224, 224, 3))"
   ]
  },
  {
   "cell_type": "code",
   "execution_count": 31,
   "metadata": {
    "ExecuteTime": {
     "end_time": "2019-12-18T01:23:43.332492Z",
     "start_time": "2019-12-18T01:23:43.326476Z"
    }
   },
   "outputs": [],
   "source": [
    "# datagen = ImageDataGenerator(rescale=1./255)\n",
    "\n",
    "def extract_features_xception(trainorval, sample_count):\n",
    "    features = np.zeros(shape=(sample_count, 7, 7, 2048))\n",
    "    labels = np.zeros(shape=(sample_count, 4))\n",
    "    if trainorval==\"training\":\n",
    "        generator = train_generator\n",
    "    else:\n",
    "        generator = val_generator\n",
    "    i = 0\n",
    "    for inputs_batch, labels_batch in generator:\n",
    "        features_batch = xception_base.predict(preprocess_input(inputs_batch))\n",
    "        try:\n",
    "            features[i * batch_size : (i + 1) * batch_size] = features_batch\n",
    "            labels[i * batch_size : (i + 1) * batch_size] = labels_batch\n",
    "        except ValueError:\n",
    "            break\n",
    "        i += 1\n",
    "        if i * batch_size >= sample_count:\n",
    "            break\n",
    "    return features, labels"
   ]
  },
  {
   "cell_type": "code",
   "execution_count": 32,
   "metadata": {
    "ExecuteTime": {
     "end_time": "2019-12-18T01:30:37.121416Z",
     "start_time": "2019-12-18T01:23:43.420225Z"
    }
   },
   "outputs": [],
   "source": [
    "train_features_x, train_labels_x = extract_features_xception('training', 2319)\n",
    "validation_features_x, validation_labels_x = extract_features_xception('validation', 991)\n",
    "\n",
    "train_features_x = np.reshape(train_features_x, (2319, 7 * 7 * 2048))\n",
    "validation_features_x = np.reshape(validation_features_x, (991, 7 * 7 * 2048))"
   ]
  },
  {
   "cell_type": "code",
   "execution_count": 55,
   "metadata": {
    "ExecuteTime": {
     "end_time": "2019-12-18T03:14:03.825153Z",
     "start_time": "2019-12-18T03:14:02.359470Z"
    }
   },
   "outputs": [],
   "source": [
    "model = models.Sequential()\n",
    "model.add(layers.Dense(256, activation='relu', input_dim=7 * 7 * 2048))\n",
    "model.add(layers.Dropout(0.35))\n",
    "model.add(layers.Dense(128, activation='relu'))\n",
    "model.add(layers.Dropout(0.35))  #Removing 50% of the weights!\n",
    "model.add(layers.Dense(4, activation='softmax'))"
   ]
  },
  {
   "cell_type": "code",
   "execution_count": 56,
   "metadata": {
    "ExecuteTime": {
     "end_time": "2019-12-18T03:23:38.810529Z",
     "start_time": "2019-12-18T03:14:03.983720Z"
    },
    "scrolled": true
   },
   "outputs": [
    {
     "name": "stdout",
     "output_type": "stream",
     "text": [
      "Train on 2319 samples, validate on 991 samples\n",
      "Epoch 1/30\n",
      "2300/2319 [============================>.] - ETA: 0s - loss: 4.1240 - acc: 0.7145\n",
      "Epoch 00001: val_acc improved from -inf to 0.72402, saving model to XCeption.h5\n",
      "2319/2319 [==============================] - 141s 61ms/sample - loss: 4.1254 - acc: 0.7144 - val_loss: 4.2110 - val_acc: 0.7240\n",
      "Epoch 2/30\n",
      "2300/2319 [============================>.] - ETA: 0s - loss: 4.3414 - acc: 0.7130\n",
      "Epoch 00002: val_acc did not improve from 0.72402\n",
      "2319/2319 [==============================] - 20s 9ms/sample - loss: 4.3390 - acc: 0.7132 - val_loss: 4.2754 - val_acc: 0.7220\n",
      "Epoch 3/30\n",
      "2300/2319 [============================>.] - ETA: 0s - loss: 4.2730 - acc: 0.7220\n",
      "Epoch 00003: val_acc did not improve from 0.72402\n",
      "2319/2319 [==============================] - 15s 6ms/sample - loss: 4.2745 - acc: 0.7219 - val_loss: 4.2754 - val_acc: 0.7220\n",
      "Epoch 4/30\n",
      "2300/2319 [============================>.] - ETA: 0s - loss: 4.2801 - acc: 0.7211\n",
      "Epoch 00004: val_acc did not improve from 0.72402\n",
      "2319/2319 [==============================] - 15s 6ms/sample - loss: 4.2716 - acc: 0.7216 - val_loss: 4.2754 - val_acc: 0.7220\n",
      "Epoch 5/30\n",
      "2300/2319 [============================>.] - ETA: 0s - loss: 4.2827 - acc: 0.7215\n",
      "Epoch 00005: val_acc did not improve from 0.72402\n",
      "2319/2319 [==============================] - 15s 6ms/sample - loss: 4.2775 - acc: 0.7219 - val_loss: 4.2754 - val_acc: 0.7220\n",
      "Epoch 6/30\n",
      "2300/2319 [============================>.] - ETA: 0s - loss: 4.2694 - acc: 0.7224\n",
      "Epoch 00006: val_acc did not improve from 0.72402\n",
      "2319/2319 [==============================] - 14s 6ms/sample - loss: 4.2775 - acc: 0.7219 - val_loss: 4.2754 - val_acc: 0.7220\n",
      "Epoch 7/30\n",
      "2300/2319 [============================>.] - ETA: 0s - loss: 4.2660 - acc: 0.7226\n",
      "Epoch 00007: val_acc did not improve from 0.72402\n",
      "2319/2319 [==============================] - 14s 6ms/sample - loss: 4.2775 - acc: 0.7219 - val_loss: 4.2754 - val_acc: 0.7220\n",
      "Epoch 8/30\n",
      "2300/2319 [============================>.] - ETA: 0s - loss: 4.2761 - acc: 0.7220\n",
      "Epoch 00008: val_acc did not improve from 0.72402\n",
      "2319/2319 [==============================] - 15s 6ms/sample - loss: 4.2775 - acc: 0.7219 - val_loss: 4.2754 - val_acc: 0.7220\n",
      "Epoch 9/30\n",
      "2300/2319 [============================>.] - ETA: 0s - loss: 4.2776 - acc: 0.7217\n",
      "Epoch 00009: val_acc did not improve from 0.72402\n",
      "2319/2319 [==============================] - 14s 6ms/sample - loss: 4.2791 - acc: 0.7216 - val_loss: 4.2754 - val_acc: 0.7220\n",
      "Epoch 10/30\n",
      "2300/2319 [============================>.] - ETA: 0s - loss: 4.2761 - acc: 0.7220\n",
      "Epoch 00010: val_acc did not improve from 0.72402\n",
      "2319/2319 [==============================] - 14s 6ms/sample - loss: 4.2775 - acc: 0.7219 - val_loss: 4.2754 - val_acc: 0.7220\n",
      "Epoch 11/30\n",
      "2300/2319 [============================>.] - ETA: 0s - loss: 4.2761 - acc: 0.7220\n",
      "Epoch 00011: val_acc did not improve from 0.72402\n",
      "2319/2319 [==============================] - 14s 6ms/sample - loss: 4.2775 - acc: 0.7219 - val_loss: 4.2754 - val_acc: 0.7220\n",
      "Epoch 12/30\n",
      "2300/2319 [============================>.] - ETA: 0s - loss: 4.2794 - acc: 0.7217\n",
      "Epoch 00012: val_acc did not improve from 0.72402\n",
      "2319/2319 [==============================] - 14s 6ms/sample - loss: 4.2775 - acc: 0.7219 - val_loss: 4.2754 - val_acc: 0.7220\n",
      "Epoch 13/30\n",
      "2300/2319 [============================>.] - ETA: 0s - loss: 4.2794 - acc: 0.7217\n",
      "Epoch 00013: val_acc did not improve from 0.72402\n",
      "2319/2319 [==============================] - 15s 6ms/sample - loss: 4.2775 - acc: 0.7219 - val_loss: 4.2754 - val_acc: 0.7220\n",
      "Epoch 14/30\n",
      "2300/2319 [============================>.] - ETA: 0s - loss: 4.2794 - acc: 0.7217\n",
      "Epoch 00014: val_acc did not improve from 0.72402\n",
      "2319/2319 [==============================] - 15s 6ms/sample - loss: 4.2775 - acc: 0.7219 - val_loss: 4.2754 - val_acc: 0.7220\n",
      "Epoch 15/30\n",
      "2300/2319 [============================>.] - ETA: 0s - loss: 4.2794 - acc: 0.7217\n",
      "Epoch 00015: val_acc did not improve from 0.72402\n",
      "2319/2319 [==============================] - 15s 6ms/sample - loss: 4.2775 - acc: 0.7219 - val_loss: 4.2754 - val_acc: 0.7220\n",
      "Epoch 16/30\n",
      "2300/2319 [============================>.] - ETA: 0s - loss: 4.2761 - acc: 0.7220\n",
      "Epoch 00016: val_acc did not improve from 0.72402\n",
      "2319/2319 [==============================] - 15s 6ms/sample - loss: 4.2775 - acc: 0.7219 - val_loss: 4.2754 - val_acc: 0.7220\n",
      "Epoch 17/30\n",
      "2300/2319 [============================>.] - ETA: 0s - loss: 4.2761 - acc: 0.7220\n",
      "Epoch 00017: val_acc did not improve from 0.72402\n",
      "2319/2319 [==============================] - 15s 6ms/sample - loss: 4.2775 - acc: 0.7219 - val_loss: 4.2754 - val_acc: 0.7220\n",
      "Epoch 18/30\n",
      "2300/2319 [============================>.] - ETA: 0s - loss: 4.2727 - acc: 0.7222\n",
      "Epoch 00018: val_acc did not improve from 0.72402\n",
      "2319/2319 [==============================] - 14s 6ms/sample - loss: 4.2775 - acc: 0.7219 - val_loss: 4.2754 - val_acc: 0.7220\n",
      "Epoch 19/30\n",
      "2300/2319 [============================>.] - ETA: 0s - loss: 4.2761 - acc: 0.7220\n",
      "Epoch 00019: val_acc did not improve from 0.72402\n",
      "2319/2319 [==============================] - 14s 6ms/sample - loss: 4.2775 - acc: 0.7219 - val_loss: 4.2754 - val_acc: 0.7220\n",
      "Epoch 20/30\n",
      "2300/2319 [============================>.] - ETA: 0s - loss: 4.2894 - acc: 0.7211\n",
      "Epoch 00020: val_acc did not improve from 0.72402\n",
      "2319/2319 [==============================] - 14s 6ms/sample - loss: 4.2775 - acc: 0.7219 - val_loss: 4.2754 - val_acc: 0.7220\n",
      "Epoch 21/30\n",
      "2300/2319 [============================>.] - ETA: 0s - loss: 4.2794 - acc: 0.7217\n",
      "Epoch 00021: val_acc did not improve from 0.72402\n",
      "2319/2319 [==============================] - 14s 6ms/sample - loss: 4.2775 - acc: 0.7219 - val_loss: 4.2754 - val_acc: 0.7220\n",
      "Epoch 22/30\n",
      "2300/2319 [============================>.] - ETA: 0s - loss: 4.2794 - acc: 0.7217\n",
      "Epoch 00022: val_acc did not improve from 0.72402\n",
      "2319/2319 [==============================] - 15s 6ms/sample - loss: 4.2775 - acc: 0.7219 - val_loss: 4.2754 - val_acc: 0.7220\n",
      "Epoch 23/30\n",
      "2300/2319 [============================>.] - ETA: 0s - loss: 4.2660 - acc: 0.7226\n",
      "Epoch 00023: val_acc did not improve from 0.72402\n",
      "2319/2319 [==============================] - 15s 6ms/sample - loss: 4.2775 - acc: 0.7219 - val_loss: 4.2754 - val_acc: 0.7220\n",
      "Epoch 24/30\n",
      "2300/2319 [============================>.] - ETA: 0s - loss: 4.2761 - acc: 0.7220\n",
      "Epoch 00024: val_acc did not improve from 0.72402\n",
      "2319/2319 [==============================] - 15s 7ms/sample - loss: 4.2775 - acc: 0.7219 - val_loss: 4.2754 - val_acc: 0.7220\n",
      "Epoch 25/30\n",
      "2300/2319 [============================>.] - ETA: 0s - loss: 4.2627 - acc: 0.7228\n",
      "Epoch 00025: val_acc did not improve from 0.72402\n",
      "2319/2319 [==============================] - 15s 6ms/sample - loss: 4.2775 - acc: 0.7219 - val_loss: 4.2754 - val_acc: 0.7220\n",
      "Epoch 26/30\n",
      "2300/2319 [============================>.] - ETA: 0s - loss: 4.2861 - acc: 0.7213\n",
      "Epoch 00026: val_acc did not improve from 0.72402\n",
      "2319/2319 [==============================] - 14s 6ms/sample - loss: 4.2775 - acc: 0.7219 - val_loss: 4.2754 - val_acc: 0.7220\n",
      "Epoch 27/30\n",
      "2300/2319 [============================>.] - ETA: 0s - loss: 4.2794 - acc: 0.7217\n",
      "Epoch 00027: val_acc did not improve from 0.72402\n",
      "2319/2319 [==============================] - 15s 6ms/sample - loss: 4.2775 - acc: 0.7219 - val_loss: 4.2754 - val_acc: 0.7220\n",
      "Epoch 28/30\n",
      "2300/2319 [============================>.] - ETA: 0s - loss: 4.2761 - acc: 0.7220\n",
      "Epoch 00028: val_acc did not improve from 0.72402\n",
      "2319/2319 [==============================] - 15s 7ms/sample - loss: 4.2775 - acc: 0.7219 - val_loss: 4.2754 - val_acc: 0.7220\n",
      "Epoch 29/30\n",
      "2300/2319 [============================>.] - ETA: 0s - loss: 4.2593 - acc: 0.7230\n",
      "Epoch 00029: val_acc did not improve from 0.72402\n",
      "2319/2319 [==============================] - 15s 6ms/sample - loss: 4.2775 - acc: 0.7219 - val_loss: 4.2754 - val_acc: 0.7220\n",
      "Epoch 30/30\n",
      "2300/2319 [============================>.] - ETA: 0s - loss: 4.2827 - acc: 0.7215\n",
      "Epoch 00030: val_acc did not improve from 0.72402\n",
      "2319/2319 [==============================] - 15s 7ms/sample - loss: 4.2775 - acc: 0.7219 - val_loss: 4.2754 - val_acc: 0.7220\n"
     ]
    }
   ],
   "source": [
    "from tensorflow.keras.optimizers import Adam\n",
    "\n",
    "INIT_LR = 1e-3\n",
    "EPOCHS = 30\n",
    "\n",
    "opt = Adam(lr=INIT_LR, decay=INIT_LR / EPOCHS)\n",
    "\n",
    "model.compile(loss=\"binary_crossentropy\", optimizer=opt, metrics=[\"accuracy\"])\n",
    "\n",
    "from tensorflow.keras.callbacks import ModelCheckpoint\n",
    "\n",
    "checkpoint = ModelCheckpoint('XCeption.h5', verbose=1, monitor='val_acc', save_best_only=True, mode='auto') \n",
    "\n",
    "history = model.fit(train_features_x, train_labels_x,\n",
    "                    epochs=30,\n",
    "                    batch_size=20,\n",
    "                    validation_data=(validation_features_x, validation_labels_x),\n",
    "                    callbacks=[checkpoint])"
   ]
  },
  {
   "cell_type": "markdown",
   "metadata": {},
   "source": [
    "### ResNet"
   ]
  },
  {
   "cell_type": "code",
   "execution_count": 35,
   "metadata": {
    "ExecuteTime": {
     "end_time": "2019-12-18T01:37:59.154795Z",
     "start_time": "2019-12-18T01:37:58.792930Z"
    }
   },
   "outputs": [
    {
     "name": "stdout",
     "output_type": "stream",
     "text": [
      "Found 2319 images belonging to 4 classes.\n",
      "Found 991 images belonging to 4 classes.\n"
     ]
    }
   ],
   "source": [
    "datagen = ImageDataGenerator(\n",
    "    rotation_range=30, width_shift_range=0.15,\n",
    "    height_shift_range=0.15, shear_range=0.15, \n",
    "    zoom_range=0.2,horizontal_flip=True, \n",
    "    fill_mode=\"nearest\", validation_split=0.3)\n",
    "batch_size = 32\n",
    "\n",
    "train_generator = datagen.flow_from_directory(\n",
    "    base_dir,\n",
    "    target_size=(224, 224),\n",
    "    batch_size=batch_size,\n",
    "    class_mode='categorical',\n",
    "    subset='training')\n",
    "\n",
    "val_generator = datagen.flow_from_directory(\n",
    "    base_dir,\n",
    "    target_size=(224, 224),\n",
    "    batch_size=batch_size,\n",
    "    class_mode='categorical',\n",
    "    subset='validation')"
   ]
  },
  {
   "cell_type": "code",
   "execution_count": 36,
   "metadata": {
    "ExecuteTime": {
     "end_time": "2019-12-18T01:37:59.337104Z",
     "start_time": "2019-12-18T01:37:59.253531Z"
    }
   },
   "outputs": [],
   "source": [
    "from tensorflow.keras.applications.resnet50 import ResNet50, preprocess_input"
   ]
  },
  {
   "cell_type": "code",
   "execution_count": 37,
   "metadata": {
    "ExecuteTime": {
     "end_time": "2019-12-18T01:38:06.454577Z",
     "start_time": "2019-12-18T01:37:59.433514Z"
    }
   },
   "outputs": [
    {
     "name": "stderr",
     "output_type": "stream",
     "text": [
      "C:\\Users\\Justin\\Anaconda3\\envs\\tf-gpu\\lib\\site-packages\\keras_applications\\resnet50.py:265: UserWarning: The output shape of `ResNet50(include_top=False)` has been changed since Keras 2.2.0.\n",
      "  warnings.warn('The output shape of `ResNet50(include_top=False)` '\n"
     ]
    }
   ],
   "source": [
    "resnet_base = ResNet50(weights='imagenet',\n",
    "                         include_top=False,\n",
    "                         input_shape=(224, 224, 3))"
   ]
  },
  {
   "cell_type": "code",
   "execution_count": 40,
   "metadata": {
    "ExecuteTime": {
     "end_time": "2019-12-18T02:31:27.300438Z",
     "start_time": "2019-12-18T02:31:27.295436Z"
    }
   },
   "outputs": [],
   "source": [
    "def extract_features_resnet(trainorval, sample_count):\n",
    "    features = np.zeros(shape=(sample_count, 7, 7, 2048))\n",
    "    labels = np.zeros(shape=(sample_count, 4))\n",
    "    if trainorval==\"training\":\n",
    "        generator = train_generator\n",
    "    else:\n",
    "        generator = val_generator\n",
    "    i = 0\n",
    "    for inputs_batch, labels_batch in generator:\n",
    "        features_batch = resnet_base.predict(preprocess_input(inputs_batch))\n",
    "        try:\n",
    "            features[i * batch_size : (i + 1) * batch_size] = features_batch\n",
    "            labels[i * batch_size : (i + 1) * batch_size] = labels_batch\n",
    "        except ValueError:\n",
    "            break\n",
    "        i += 1\n",
    "        if i * batch_size >= sample_count:\n",
    "            break\n",
    "    return features, labels"
   ]
  },
  {
   "cell_type": "code",
   "execution_count": 52,
   "metadata": {
    "ExecuteTime": {
     "end_time": "2019-12-18T02:51:48.522294Z",
     "start_time": "2019-12-18T02:49:10.614430Z"
    }
   },
   "outputs": [],
   "source": [
    "train_features_res, train_labels_res = extract_features_resnet('training', 2319)\n",
    "validation_features_res, validation_labels_res = extract_features_resnet('validation', 991)\n",
    "\n",
    "train_features_res = np.reshape(train_features_res, (2319, 7 * 7 * 2048))\n",
    "validation_features_res = np.reshape(validation_features_res, (991, 7 * 7 * 2048))"
   ]
  },
  {
   "cell_type": "code",
   "execution_count": 60,
   "metadata": {
    "ExecuteTime": {
     "end_time": "2019-12-18T03:28:00.058495Z",
     "start_time": "2019-12-18T03:27:59.435102Z"
    }
   },
   "outputs": [],
   "source": [
    "model = models.Sequential()\n",
    "model.add(layers.Dense(256, activation='relu', input_dim=7 * 7 * 2048))\n",
    "model.add(layers.Dropout(0.5))\n",
    "model.add(layers.Dense(128, activation='relu'))\n",
    "model.add(layers.Dropout(0.4))  #Removing 50% of the weights!\n",
    "model.add(layers.Dense(4, activation='softmax'))"
   ]
  },
  {
   "cell_type": "code",
   "execution_count": 61,
   "metadata": {
    "ExecuteTime": {
     "end_time": "2019-12-18T03:33:10.338797Z",
     "start_time": "2019-12-18T03:28:00.331306Z"
    },
    "scrolled": true
   },
   "outputs": [
    {
     "name": "stdout",
     "output_type": "stream",
     "text": [
      "Train on 2319 samples, validate on 991 samples\n",
      "Epoch 1/30\n",
      "2304/2319 [============================>.] - ETA: 0s - loss: 0.6092 - acc: 0.9774\n",
      "Epoch 00001: val_acc improved from -inf to 0.57820, saving model to ResNet.h5\n",
      "2319/2319 [==============================] - 18s 8ms/sample - loss: 0.6071 - acc: 0.9776 - val_loss: 6.4868 - val_acc: 0.5782\n",
      "Epoch 2/30\n",
      "2304/2319 [============================>.] - ETA: 0s - loss: 0.6308 - acc: 0.9766\n",
      "Epoch 00002: val_acc did not improve from 0.57820\n",
      "2319/2319 [==============================] - 10s 4ms/sample - loss: 0.6286 - acc: 0.9767 - val_loss: 6.4868 - val_acc: 0.5782\n",
      "Epoch 3/30\n",
      "2304/2319 [============================>.] - ETA: 0s - loss: 0.6288 - acc: 0.9768\n",
      "Epoch 00003: val_acc did not improve from 0.57820\n",
      "2319/2319 [==============================] - 10s 4ms/sample - loss: 0.6266 - acc: 0.9769 - val_loss: 6.4868 - val_acc: 0.5782\n",
      "Epoch 4/30\n",
      "2304/2319 [============================>.] - ETA: 0s - loss: 0.6224 - acc: 0.9772\n",
      "Epoch 00004: val_acc did not improve from 0.57820\n",
      "2319/2319 [==============================] - 10s 4ms/sample - loss: 0.6266 - acc: 0.9769 - val_loss: 6.4868 - val_acc: 0.5782\n",
      "Epoch 5/30\n",
      "2304/2319 [============================>.] - ETA: 0s - loss: 0.6256 - acc: 0.9770\n",
      "Epoch 00005: val_acc did not improve from 0.57820\n",
      "2319/2319 [==============================] - 10s 4ms/sample - loss: 0.6266 - acc: 0.9769 - val_loss: 6.4868 - val_acc: 0.5782\n",
      "Epoch 6/30\n",
      "2304/2319 [============================>.] - ETA: 0s - loss: 0.6246 - acc: 0.9770\n",
      "Epoch 00006: val_acc did not improve from 0.57820\n",
      "2319/2319 [==============================] - 10s 4ms/sample - loss: 0.6256 - acc: 0.9769 - val_loss: 6.4868 - val_acc: 0.5782\n",
      "Epoch 7/30\n",
      "2304/2319 [============================>.] - ETA: 0s - loss: 0.6256 - acc: 0.9770\n",
      "Epoch 00007: val_acc did not improve from 0.57820\n",
      "2319/2319 [==============================] - 10s 4ms/sample - loss: 0.6266 - acc: 0.9769 - val_loss: 6.4868 - val_acc: 0.5782\n",
      "Epoch 8/30\n",
      "2304/2319 [============================>.] - ETA: 0s - loss: 0.6288 - acc: 0.9768\n",
      "Epoch 00008: val_acc did not improve from 0.57820\n",
      "2319/2319 [==============================] - 10s 4ms/sample - loss: 0.6266 - acc: 0.9769 - val_loss: 6.4868 - val_acc: 0.5782\n",
      "Epoch 9/30\n",
      "2304/2319 [============================>.] - ETA: 0s - loss: 0.6192 - acc: 0.9774\n",
      "Epoch 00009: val_acc did not improve from 0.57820\n",
      "2319/2319 [==============================] - 10s 4ms/sample - loss: 0.6266 - acc: 0.9769 - val_loss: 6.4868 - val_acc: 0.5782\n",
      "Epoch 10/30\n",
      "2304/2319 [============================>.] - ETA: 0s - loss: 0.6288 - acc: 0.9768\n",
      "Epoch 00010: val_acc did not improve from 0.57820\n",
      "2319/2319 [==============================] - 10s 4ms/sample - loss: 0.6266 - acc: 0.9769 - val_loss: 6.4868 - val_acc: 0.5782\n",
      "Epoch 11/30\n",
      "2304/2319 [============================>.] - ETA: 0s - loss: 0.6288 - acc: 0.9768\n",
      "Epoch 00011: val_acc did not improve from 0.57820\n",
      "2319/2319 [==============================] - 10s 4ms/sample - loss: 0.6266 - acc: 0.9769 - val_loss: 6.4868 - val_acc: 0.5782\n",
      "Epoch 12/30\n",
      "2304/2319 [============================>.] - ETA: 0s - loss: 0.6256 - acc: 0.9770\n",
      "Epoch 00012: val_acc did not improve from 0.57820\n",
      "2319/2319 [==============================] - 10s 4ms/sample - loss: 0.6266 - acc: 0.9769 - val_loss: 6.4868 - val_acc: 0.5782\n",
      "Epoch 13/30\n",
      "2304/2319 [============================>.] - ETA: 0s - loss: 0.6256 - acc: 0.9770\n",
      "Epoch 00013: val_acc did not improve from 0.57820\n",
      "2319/2319 [==============================] - 10s 4ms/sample - loss: 0.6266 - acc: 0.9769 - val_loss: 6.4868 - val_acc: 0.5782\n",
      "Epoch 14/30\n",
      "2304/2319 [============================>.] - ETA: 0s - loss: 0.6224 - acc: 0.9772\n",
      "Epoch 00014: val_acc did not improve from 0.57820\n",
      "2319/2319 [==============================] - 10s 4ms/sample - loss: 0.6266 - acc: 0.9769 - val_loss: 6.4868 - val_acc: 0.5782\n",
      "Epoch 15/30\n",
      "2304/2319 [============================>.] - ETA: 0s - loss: 0.6288 - acc: 0.9768\n",
      "Epoch 00015: val_acc did not improve from 0.57820\n",
      "2319/2319 [==============================] - 10s 4ms/sample - loss: 0.6266 - acc: 0.9769 - val_loss: 6.4868 - val_acc: 0.5782\n",
      "Epoch 16/30\n",
      "2304/2319 [============================>.] - ETA: 0s - loss: 0.6288 - acc: 0.9768\n",
      "Epoch 00016: val_acc did not improve from 0.57820\n",
      "2319/2319 [==============================] - 10s 4ms/sample - loss: 0.6266 - acc: 0.9769 - val_loss: 6.4868 - val_acc: 0.5782\n",
      "Epoch 17/30\n",
      "2304/2319 [============================>.] - ETA: 0s - loss: 0.6256 - acc: 0.9770\n",
      "Epoch 00017: val_acc did not improve from 0.57820\n",
      "2319/2319 [==============================] - 10s 4ms/sample - loss: 0.6266 - acc: 0.9769 - val_loss: 6.4868 - val_acc: 0.5782\n",
      "Epoch 18/30\n",
      "2304/2319 [============================>.] - ETA: 0s - loss: 0.6288 - acc: 0.9768\n",
      "Epoch 00018: val_acc did not improve from 0.57820\n",
      "2319/2319 [==============================] - 10s 4ms/sample - loss: 0.6266 - acc: 0.9769 - val_loss: 6.4868 - val_acc: 0.5782\n",
      "Epoch 19/30\n",
      "2304/2319 [============================>.] - ETA: 0s - loss: 0.6224 - acc: 0.9772\n",
      "Epoch 00019: val_acc did not improve from 0.57820\n",
      "2319/2319 [==============================] - 10s 4ms/sample - loss: 0.6266 - acc: 0.9769 - val_loss: 6.4868 - val_acc: 0.5782\n",
      "Epoch 20/30\n",
      "2304/2319 [============================>.] - ETA: 0s - loss: 0.6289 - acc: 0.9768\n",
      "Epoch 00020: val_acc did not improve from 0.57820\n",
      "2319/2319 [==============================] - 9s 4ms/sample - loss: 0.6266 - acc: 0.9769 - val_loss: 6.4868 - val_acc: 0.5782\n",
      "Epoch 21/30\n",
      "2304/2319 [============================>.] - ETA: 0s - loss: 0.6256 - acc: 0.9770\n",
      "Epoch 00021: val_acc did not improve from 0.57820\n",
      "2319/2319 [==============================] - 10s 4ms/sample - loss: 0.6266 - acc: 0.9769 - val_loss: 6.4868 - val_acc: 0.5782\n",
      "Epoch 22/30\n",
      "2304/2319 [============================>.] - ETA: 0s - loss: 0.6288 - acc: 0.9768\n",
      "Epoch 00022: val_acc did not improve from 0.57820\n",
      "2319/2319 [==============================] - 10s 4ms/sample - loss: 0.6266 - acc: 0.9769 - val_loss: 6.4868 - val_acc: 0.5782\n",
      "Epoch 23/30\n",
      "2304/2319 [============================>.] - ETA: 0s - loss: 0.6256 - acc: 0.9770\n",
      "Epoch 00023: val_acc did not improve from 0.57820\n",
      "2319/2319 [==============================] - 9s 4ms/sample - loss: 0.6266 - acc: 0.9769 - val_loss: 6.4868 - val_acc: 0.5782\n",
      "Epoch 24/30\n",
      "2304/2319 [============================>.] - ETA: 0s - loss: 0.6059 - acc: 0.9781\n",
      "Epoch 00024: val_acc improved from 0.57820 to 0.72200, saving model to ResNet.h5\n",
      "2319/2319 [==============================] - 11s 5ms/sample - loss: 0.6038 - acc: 0.9782 - val_loss: 4.2754 - val_acc: 0.7220\n",
      "Epoch 25/30\n",
      "2304/2319 [============================>.] - ETA: 0s - loss: 0.6032 - acc: 0.9783\n",
      "Epoch 00025: val_acc did not improve from 0.72200\n",
      "2319/2319 [==============================] - 10s 4ms/sample - loss: 0.6012 - acc: 0.9784 - val_loss: 6.4868 - val_acc: 0.5782\n",
      "Epoch 26/30\n",
      "2304/2319 [============================>.] - ETA: 0s - loss: 0.6255 - acc: 0.9770\n",
      "Epoch 00026: val_acc did not improve from 0.72200\n",
      "2319/2319 [==============================] - 10s 4ms/sample - loss: 0.6233 - acc: 0.9771 - val_loss: 6.4868 - val_acc: 0.5782\n",
      "Epoch 27/30\n",
      "2304/2319 [============================>.] - ETA: 0s - loss: 0.5820 - acc: 0.9798\n",
      "Epoch 00027: val_acc did not improve from 0.72200\n",
      "2319/2319 [==============================] - 10s 4ms/sample - loss: 0.5801 - acc: 0.9799 - val_loss: 4.8507 - val_acc: 0.6826\n",
      "Epoch 28/30\n",
      "2304/2319 [============================>.] - ETA: 0s - loss: 0.5000 - acc: 0.9850\n",
      "Epoch 00028: val_acc did not improve from 0.72200\n",
      "2319/2319 [==============================] - 10s 4ms/sample - loss: 0.4986 - acc: 0.9851 - val_loss: 4.2754 - val_acc: 0.7220\n",
      "Epoch 29/30\n",
      "2304/2319 [============================>.] - ETA: 0s - loss: 0.4953 - acc: 0.9855\n",
      "Epoch 00029: val_acc did not improve from 0.72200\n",
      "2319/2319 [==============================] - 10s 4ms/sample - loss: 0.4940 - acc: 0.9856 - val_loss: 4.2754 - val_acc: 0.7220\n",
      "Epoch 30/30\n",
      "2304/2319 [============================>.] - ETA: 0s - loss: 0.4927 - acc: 0.9855\n",
      "Epoch 00030: val_acc did not improve from 0.72200\n",
      "2319/2319 [==============================] - 10s 4ms/sample - loss: 0.4913 - acc: 0.9856 - val_loss: 4.2754 - val_acc: 0.7220\n"
     ]
    }
   ],
   "source": [
    "from tensorflow.keras.optimizers import Adam\n",
    "\n",
    "INIT_LR = 1e-3\n",
    "EPOCHS = 30\n",
    "\n",
    "opt = Adam(lr=INIT_LR, decay=INIT_LR / EPOCHS)\n",
    "\n",
    "model.compile(loss=\"binary_crossentropy\", optimizer=opt, metrics=[\"accuracy\"])\n",
    "\n",
    "from tensorflow.keras.callbacks import ModelCheckpoint\n",
    "\n",
    "checkpoint = ModelCheckpoint('ResNet.h5', verbose=1, monitor='val_acc', save_best_only=True, mode='auto') \n",
    "\n",
    "\n",
    "history = model.fit(train_features_res, train_labels_res,\n",
    "                    epochs=30,\n",
    "                    batch_size=batch_size,\n",
    "                    validation_data=(validation_features_res, validation_labels_res),\n",
    "                    callbacks=[checkpoint])"
   ]
  },
  {
   "cell_type": "markdown",
   "metadata": {},
   "source": [
    "### 5Conv2Dense"
   ]
  },
  {
   "cell_type": "code",
   "execution_count": 1,
   "metadata": {
    "ExecuteTime": {
     "end_time": "2019-12-19T08:11:16.047454Z",
     "start_time": "2019-12-19T08:11:16.043913Z"
    }
   },
   "outputs": [],
   "source": [
    "import numpy as np\n",
    "import pickle\n",
    "import cv2\n",
    "from os import listdir\n",
    "from sklearn.preprocessing import LabelBinarizer\n",
    "#import keras\n",
    "from tensorflow.keras.models import Sequential\n",
    "from tensorflow.keras.layers import BatchNormalization\n",
    "from tensorflow.keras.layers import Conv2D\n",
    "from tensorflow.keras.layers import MaxPooling2D\n",
    "from tensorflow.keras.layers import Activation, Flatten, Dropout, Dense\n",
    "from tensorflow.keras import backend as K\n",
    "from tensorflow.keras.preprocessing.image import ImageDataGenerator\n",
    "from tensorflow.keras.optimizers import Adam\n",
    "from tensorflow.keras.preprocessing import image\n",
    "from tensorflow.keras.preprocessing.image import img_to_array, load_img\n",
    "from sklearn.preprocessing import MultiLabelBinarizer\n",
    "from sklearn.model_selection import train_test_split\n",
    "import matplotlib.pyplot as plt"
   ]
  },
  {
   "cell_type": "code",
   "execution_count": 2,
   "metadata": {
    "ExecuteTime": {
     "end_time": "2019-12-11T19:15:45.099084Z",
     "start_time": "2019-12-11T19:15:45.096042Z"
    }
   },
   "outputs": [],
   "source": [
    "EPOCHS = 50\n",
    "INIT_LR = 1e-3\n",
    "BS = 16\n",
    "default_image_size = tuple((256, 256))\n",
    "image_size = 0\n",
    "directory_root = 'D://Moy Hao Zhen/University of Malaya/Sem 5 - Internship Intel/UMHackathon/archive/NewDataset/BGRemoved'\n",
    "width=256\n",
    "height=256\n",
    "depth=3"
   ]
  },
  {
   "cell_type": "code",
   "execution_count": 3,
   "metadata": {
    "ExecuteTime": {
     "end_time": "2019-12-11T19:15:45.868254Z",
     "start_time": "2019-12-11T19:15:45.863268Z"
    }
   },
   "outputs": [],
   "source": [
    "def convert_image_to_array(image_dir):\n",
    "    try:\n",
    "        image = cv2.imread(image_dir)\n",
    "        if image is not None :\n",
    "            image = cv2.resize(image, default_image_size)   \n",
    "            return img_to_array(image)\n",
    "        else :\n",
    "            return np.array([])\n",
    "    except Exception as e:\n",
    "        print(f\"Error : {e}\")\n",
    "        return None"
   ]
  },
  {
   "cell_type": "code",
   "execution_count": 4,
   "metadata": {
    "ExecuteTime": {
     "end_time": "2019-12-11T19:18:43.070358Z",
     "start_time": "2019-12-11T19:15:46.501234Z"
    }
   },
   "outputs": [
    {
     "name": "stdout",
     "output_type": "stream",
     "text": [
      "[INFO] Loading images ...\n",
      "[INFO] Image loading completed\n"
     ]
    }
   ],
   "source": [
    "image_list, label_list = [], []\n",
    "try:\n",
    "    print(\"[INFO] Loading images ...\")\n",
    "    root_dir = listdir(directory_root)\n",
    "    for directory in root_dir :\n",
    "        # remove .DS_Store from list\n",
    "        if directory == \".DS_Store\" :\n",
    "            root_dir.remove(directory)\n",
    "\n",
    "    for disease_folder in root_dir :\n",
    "        plant_disease_image_list = listdir(f\"{directory_root}/{disease_folder}\")\n",
    "        \n",
    "        for image in plant_disease_image_list:\n",
    "            image_directory = f\"{directory_root}/{disease_folder}/{image}\"\n",
    "            if image_directory.endswith(\".jpg\") == True or image_directory.endswith(\".JPG\") == True:\n",
    "                image_list.append(convert_image_to_array(image_directory))\n",
    "                label_list.append(disease_folder)\n",
    "    print(\"[INFO] Image loading completed\")  \n",
    "except Exception as e:\n",
    "    print(f\"Error : {e}\")"
   ]
  },
  {
   "cell_type": "code",
   "execution_count": 5,
   "metadata": {
    "ExecuteTime": {
     "end_time": "2019-12-11T19:18:45.552496Z",
     "start_time": "2019-12-11T19:18:45.549238Z"
    }
   },
   "outputs": [
    {
     "name": "stdout",
     "output_type": "stream",
     "text": [
      "600\n"
     ]
    }
   ],
   "source": [
    "image_size = len(image_list)\n",
    "print(image_size)"
   ]
  },
  {
   "cell_type": "code",
   "execution_count": 6,
   "metadata": {
    "ExecuteTime": {
     "end_time": "2019-12-11T19:18:47.982309Z",
     "start_time": "2019-12-11T19:18:47.963462Z"
    }
   },
   "outputs": [],
   "source": [
    "label_binarizer = LabelBinarizer()\n",
    "image_labels = label_binarizer.fit_transform(label_list)\n",
    "pickle.dump(label_binarizer,open('label_transform.pkl', 'wb'))\n",
    "n_classes = len(label_binarizer.classes_)"
   ]
  },
  {
   "cell_type": "code",
   "execution_count": 7,
   "metadata": {
    "ExecuteTime": {
     "end_time": "2019-12-11T19:18:50.758548Z",
     "start_time": "2019-12-11T19:18:50.755288Z"
    }
   },
   "outputs": [
    {
     "name": "stdout",
     "output_type": "stream",
     "text": [
      "['BrownSpot' 'Healthy' 'Hispa' 'LeafBlast']\n"
     ]
    }
   ],
   "source": [
    "print(label_binarizer.classes_)"
   ]
  },
  {
   "cell_type": "code",
   "execution_count": 8,
   "metadata": {
    "ExecuteTime": {
     "end_time": "2019-12-11T19:19:00.711405Z",
     "start_time": "2019-12-11T19:18:53.230119Z"
    }
   },
   "outputs": [],
   "source": [
    "np_image_list = np.array(image_list, dtype=np.float16) / 225.0"
   ]
  },
  {
   "cell_type": "code",
   "execution_count": 9,
   "metadata": {
    "ExecuteTime": {
     "end_time": "2019-12-11T19:19:05.068392Z",
     "start_time": "2019-12-11T19:19:03.967235Z"
    }
   },
   "outputs": [
    {
     "name": "stdout",
     "output_type": "stream",
     "text": [
      "[INFO] Spliting data to train, test\n"
     ]
    }
   ],
   "source": [
    "print(\"[INFO] Spliting data to train, test\")\n",
    "x_train, x_test, y_train, y_test = train_test_split(np_image_list, image_labels, test_size=0.3, random_state = 42) "
   ]
  },
  {
   "cell_type": "code",
   "execution_count": 10,
   "metadata": {
    "ExecuteTime": {
     "end_time": "2019-12-11T19:19:09.314173Z",
     "start_time": "2019-12-11T19:19:08.972810Z"
    }
   },
   "outputs": [],
   "source": [
    "aug = ImageDataGenerator(\n",
    "    rotation_range=30, width_shift_range=0.15,\n",
    "    height_shift_range=0.15, shear_range=0.15, \n",
    "    zoom_range=0.2,horizontal_flip=True, \n",
    "    fill_mode=\"nearest\")"
   ]
  },
  {
   "cell_type": "code",
   "execution_count": 11,
   "metadata": {
    "ExecuteTime": {
     "end_time": "2019-12-11T19:19:33.359424Z",
     "start_time": "2019-12-11T19:19:11.840937Z"
    }
   },
   "outputs": [],
   "source": [
    "model = Sequential()\n",
    "inputShape = (height, width, depth)\n",
    "chanDim = -1\n",
    "if K.image_data_format() == \"channels_first\":\n",
    "    inputShape = (depth, height, width)\n",
    "    chanDim = 1\n",
    "model.add(Conv2D(32, (3, 3), padding=\"same\",input_shape=inputShape))\n",
    "model.add(Activation(\"relu\"))\n",
    "model.add(BatchNormalization(axis=chanDim))\n",
    "model.add(MaxPooling2D(pool_size=(3, 3)))\n",
    "model.add(Dropout(0.25))\n",
    "model.add(Conv2D(64, (3, 3), padding=\"same\"))\n",
    "model.add(Activation(\"relu\"))\n",
    "model.add(BatchNormalization(axis=chanDim))\n",
    "model.add(Conv2D(64, (3, 3), padding=\"same\"))\n",
    "model.add(Activation(\"relu\"))\n",
    "model.add(BatchNormalization(axis=chanDim))\n",
    "model.add(MaxPooling2D(pool_size=(2, 2)))\n",
    "model.add(Dropout(0.25))\n",
    "model.add(Conv2D(128, (3, 3), padding=\"same\"))\n",
    "model.add(Activation(\"relu\"))\n",
    "model.add(BatchNormalization(axis=chanDim))\n",
    "model.add(Conv2D(128, (3, 3), padding=\"same\"))\n",
    "model.add(Activation(\"relu\"))\n",
    "model.add(BatchNormalization(axis=chanDim))\n",
    "model.add(MaxPooling2D(pool_size=(2, 2)))\n",
    "model.add(Dropout(0.25))\n",
    "model.add(Flatten())\n",
    "model.add(Dense(256))\n",
    "model.add(Activation(\"relu\"))\n",
    "model.add(BatchNormalization())\n",
    "model.add(Dropout(0.5))\n",
    "model.add(Dense(n_classes))\n",
    "model.add(Activation(\"softmax\"))"
   ]
  },
  {
   "cell_type": "code",
   "execution_count": 12,
   "metadata": {
    "ExecuteTime": {
     "end_time": "2019-12-11T18:09:04.787483Z",
     "start_time": "2019-12-11T18:09:04.778518Z"
    },
    "scrolled": false
   },
   "outputs": [
    {
     "name": "stdout",
     "output_type": "stream",
     "text": [
      "Model: \"sequential\"\n",
      "_________________________________________________________________\n",
      "Layer (type)                 Output Shape              Param #   \n",
      "=================================================================\n",
      "conv2d (Conv2D)              (None, 256, 256, 32)      896       \n",
      "_________________________________________________________________\n",
      "activation (Activation)      (None, 256, 256, 32)      0         \n",
      "_________________________________________________________________\n",
      "batch_normalization (BatchNo (None, 256, 256, 32)      128       \n",
      "_________________________________________________________________\n",
      "max_pooling2d (MaxPooling2D) (None, 85, 85, 32)        0         \n",
      "_________________________________________________________________\n",
      "dropout (Dropout)            (None, 85, 85, 32)        0         \n",
      "_________________________________________________________________\n",
      "conv2d_1 (Conv2D)            (None, 85, 85, 64)        18496     \n",
      "_________________________________________________________________\n",
      "activation_1 (Activation)    (None, 85, 85, 64)        0         \n",
      "_________________________________________________________________\n",
      "batch_normalization_1 (Batch (None, 85, 85, 64)        256       \n",
      "_________________________________________________________________\n",
      "conv2d_2 (Conv2D)            (None, 85, 85, 64)        36928     \n",
      "_________________________________________________________________\n",
      "activation_2 (Activation)    (None, 85, 85, 64)        0         \n",
      "_________________________________________________________________\n",
      "batch_normalization_2 (Batch (None, 85, 85, 64)        256       \n",
      "_________________________________________________________________\n",
      "max_pooling2d_1 (MaxPooling2 (None, 42, 42, 64)        0         \n",
      "_________________________________________________________________\n",
      "dropout_1 (Dropout)          (None, 42, 42, 64)        0         \n",
      "_________________________________________________________________\n",
      "conv2d_3 (Conv2D)            (None, 42, 42, 128)       73856     \n",
      "_________________________________________________________________\n",
      "activation_3 (Activation)    (None, 42, 42, 128)       0         \n",
      "_________________________________________________________________\n",
      "batch_normalization_3 (Batch (None, 42, 42, 128)       512       \n",
      "_________________________________________________________________\n",
      "conv2d_4 (Conv2D)            (None, 42, 42, 128)       147584    \n",
      "_________________________________________________________________\n",
      "activation_4 (Activation)    (None, 42, 42, 128)       0         \n",
      "_________________________________________________________________\n",
      "batch_normalization_4 (Batch (None, 42, 42, 128)       512       \n",
      "_________________________________________________________________\n",
      "max_pooling2d_2 (MaxPooling2 (None, 21, 21, 128)       0         \n",
      "_________________________________________________________________\n",
      "dropout_2 (Dropout)          (None, 21, 21, 128)       0         \n",
      "_________________________________________________________________\n",
      "flatten (Flatten)            (None, 56448)             0         \n",
      "_________________________________________________________________\n",
      "dense (Dense)                (None, 256)               14450944  \n",
      "_________________________________________________________________\n",
      "activation_5 (Activation)    (None, 256)               0         \n",
      "_________________________________________________________________\n",
      "batch_normalization_5 (Batch (None, 256)               1024      \n",
      "_________________________________________________________________\n",
      "dropout_3 (Dropout)          (None, 256)               0         \n",
      "_________________________________________________________________\n",
      "dense_1 (Dense)              (None, 4)                 1028      \n",
      "_________________________________________________________________\n",
      "activation_6 (Activation)    (None, 4)                 0         \n",
      "=================================================================\n",
      "Total params: 14,732,420\n",
      "Trainable params: 14,731,076\n",
      "Non-trainable params: 1,344\n",
      "_________________________________________________________________\n"
     ]
    }
   ],
   "source": [
    "model.summary()"
   ]
  },
  {
   "cell_type": "code",
   "execution_count": 13,
   "metadata": {
    "ExecuteTime": {
     "end_time": "2019-12-11T19:19:36.562519Z",
     "start_time": "2019-12-11T19:19:36.397626Z"
    }
   },
   "outputs": [
    {
     "name": "stdout",
     "output_type": "stream",
     "text": [
      "[INFO] training network...\n"
     ]
    }
   ],
   "source": [
    "opt = Adam(lr=INIT_LR, decay=INIT_LR / EPOCHS)\n",
    "# distribution\n",
    "model.compile(loss=\"binary_crossentropy\", optimizer=opt,metrics=[\"accuracy\"])\n",
    "# train the network\n",
    "print(\"[INFO] training network...\")"
   ]
  },
  {
   "cell_type": "code",
   "execution_count": 14,
   "metadata": {
    "ExecuteTime": {
     "end_time": "2019-12-11T19:19:39.170046Z",
     "start_time": "2019-12-11T19:19:39.109174Z"
    }
   },
   "outputs": [],
   "source": [
    "from tensorflow.keras.callbacks import ModelCheckpoint\n",
    "\n",
    "checkpoint = ModelCheckpoint('best_model_5conv2dense_woutBG.h5', verbose=1, monitor='val_accuracy', save_best_only=True, mode='auto') "
   ]
  },
  {
   "cell_type": "code",
   "execution_count": 15,
   "metadata": {
    "ExecuteTime": {
     "end_time": "2019-12-11T19:40:01.636755Z",
     "start_time": "2019-12-11T19:19:41.643475Z"
    },
    "scrolled": true
   },
   "outputs": [
    {
     "name": "stdout",
     "output_type": "stream",
     "text": [
      "WARNING:tensorflow:From C:\\Users\\USER\\AppData\\Local\\Temp/ipykernel_10616/1435869103.py:6: Model.fit_generator (from tensorflow.python.keras.engine.training) is deprecated and will be removed in a future version.\n",
      "Instructions for updating:\n",
      "Please use Model.fit, which supports generators.\n",
      "WARNING:tensorflow:sample_weight modes were coerced from\n",
      "  ...\n",
      "    to  \n",
      "  ['...']\n",
      "Train for 26 steps, validate on 180 samples\n",
      "Epoch 1/50\n",
      "25/26 [===========================>..] - ETA: 0s - loss: 0.8600 - accuracy: 0.6688\n",
      "Epoch 00001: val_accuracy improved from -inf to 0.62500, saving model to best_model_5conv2dense_woutBG.h5\n",
      "26/26 [==============================] - 22s 860ms/step - loss: 0.8573 - accuracy: 0.6696 - val_loss: 1.3132 - val_accuracy: 0.6250\n",
      "Epoch 2/50\n",
      "25/26 [===========================>..] - ETA: 0s - loss: 0.6756 - accuracy: 0.7274\n",
      "Epoch 00002: val_accuracy improved from 0.62500 to 0.65000, saving model to best_model_5conv2dense_woutBG.h5\n",
      "26/26 [==============================] - 17s 658ms/step - loss: 0.6793 - accuracy: 0.7259 - val_loss: 1.5628 - val_accuracy: 0.6500\n",
      "Epoch 3/50\n",
      "25/26 [===========================>..] - ETA: 0s - loss: 0.6842 - accuracy: 0.7017\n",
      "Epoch 00003: val_accuracy did not improve from 0.65000\n",
      "26/26 [==============================] - 11s 410ms/step - loss: 0.6880 - accuracy: 0.6999 - val_loss: 1.8589 - val_accuracy: 0.6458\n",
      "Epoch 4/50\n",
      "25/26 [===========================>..] - ETA: 0s - loss: 0.7039 - accuracy: 0.6812\n",
      "Epoch 00004: val_accuracy did not improve from 0.65000\n",
      "26/26 [==============================] - 11s 441ms/step - loss: 0.7019 - accuracy: 0.6821 - val_loss: 3.6199 - val_accuracy: 0.6250\n",
      "Epoch 5/50\n",
      "25/26 [===========================>..] - ETA: 0s - loss: 0.6340 - accuracy: 0.7249\n",
      "Epoch 00005: val_accuracy did not improve from 0.65000\n",
      "26/26 [==============================] - 10s 395ms/step - loss: 0.6299 - accuracy: 0.7259 - val_loss: 5.6439 - val_accuracy: 0.6250\n",
      "Epoch 6/50\n",
      "25/26 [===========================>..] - ETA: 0s - loss: 0.6268 - accuracy: 0.7326\n",
      "Epoch 00006: val_accuracy did not improve from 0.65000\n",
      "26/26 [==============================] - 11s 428ms/step - loss: 0.6228 - accuracy: 0.7339 - val_loss: 4.4855 - val_accuracy: 0.6361\n",
      "Epoch 7/50\n",
      "25/26 [===========================>..] - ETA: 0s - loss: 0.5584 - accuracy: 0.7487\n",
      "Epoch 00007: val_accuracy did not improve from 0.65000\n",
      "26/26 [==============================] - 11s 441ms/step - loss: 0.5605 - accuracy: 0.7488 - val_loss: 2.3309 - val_accuracy: 0.6278\n",
      "Epoch 8/50\n",
      "25/26 [===========================>..] - ETA: 0s - loss: 0.5131 - accuracy: 0.7751\n",
      "Epoch 00008: val_accuracy improved from 0.65000 to 0.67083, saving model to best_model_5conv2dense_woutBG.h5\n",
      "26/26 [==============================] - 17s 667ms/step - loss: 0.5207 - accuracy: 0.7710 - val_loss: 3.5277 - val_accuracy: 0.6708\n",
      "Epoch 9/50\n",
      "25/26 [===========================>..] - ETA: 0s - loss: 0.5610 - accuracy: 0.7371\n",
      "Epoch 00009: val_accuracy did not improve from 0.67083\n",
      "26/26 [==============================] - 12s 477ms/step - loss: 0.5581 - accuracy: 0.7389 - val_loss: 3.5219 - val_accuracy: 0.6556\n",
      "Epoch 10/50\n",
      "25/26 [===========================>..] - ETA: 0s - loss: 0.5185 - accuracy: 0.7558\n",
      "Epoch 00010: val_accuracy did not improve from 0.67083\n",
      "26/26 [==============================] - 14s 546ms/step - loss: 0.5150 - accuracy: 0.7568 - val_loss: 5.8792 - val_accuracy: 0.6167\n",
      "Epoch 11/50\n",
      "25/26 [===========================>..] - ETA: 0s - loss: 0.5443 - accuracy: 0.7597\n",
      "Epoch 00011: val_accuracy did not improve from 0.67083\n",
      "26/26 [==============================] - 14s 524ms/step - loss: 0.5446 - accuracy: 0.7605 - val_loss: 5.8792 - val_accuracy: 0.6167\n",
      "Epoch 12/50\n",
      "25/26 [===========================>..] - ETA: 0s - loss: 0.5035 - accuracy: 0.7635\n",
      "Epoch 00012: val_accuracy did not improve from 0.67083\n",
      "26/26 [==============================] - 16s 598ms/step - loss: 0.5031 - accuracy: 0.7636 - val_loss: 5.1601 - val_accuracy: 0.6222\n",
      "Epoch 13/50\n",
      "25/26 [===========================>..] - ETA: 0s - loss: 0.5182 - accuracy: 0.7655\n",
      "Epoch 00013: val_accuracy did not improve from 0.67083\n",
      "26/26 [==============================] - 12s 477ms/step - loss: 0.5235 - accuracy: 0.7630 - val_loss: 1.9308 - val_accuracy: 0.6514\n",
      "Epoch 14/50\n",
      "25/26 [===========================>..] - ETA: 0s - loss: 0.6670 - accuracy: 0.7144\n",
      "Epoch 00014: val_accuracy did not improve from 0.67083\n",
      "26/26 [==============================] - 18s 700ms/step - loss: 0.6612 - accuracy: 0.7151 - val_loss: 5.3065 - val_accuracy: 0.6472\n",
      "Epoch 15/50\n",
      "25/26 [===========================>..] - ETA: 0s - loss: 0.6218 - accuracy: 0.7390\n",
      "Epoch 00015: val_accuracy did not improve from 0.67083\n",
      "26/26 [==============================] - 13s 516ms/step - loss: 0.6134 - accuracy: 0.7407 - val_loss: 2.3979 - val_accuracy: 0.6472\n",
      "Epoch 16/50\n",
      "25/26 [===========================>..] - ETA: 0s - loss: 0.5757 - accuracy: 0.7436\n",
      "Epoch 00016: val_accuracy did not improve from 0.67083\n",
      "26/26 [==============================] - 13s 504ms/step - loss: 0.5737 - accuracy: 0.7444 - val_loss: 3.9090 - val_accuracy: 0.6167\n",
      "Epoch 17/50\n",
      "25/26 [===========================>..] - ETA: 0s - loss: 0.5727 - accuracy: 0.7442\n",
      "Epoch 00017: val_accuracy did not improve from 0.67083\n",
      "26/26 [==============================] - 12s 473ms/step - loss: 0.5751 - accuracy: 0.7432 - val_loss: 3.4453 - val_accuracy: 0.6167\n",
      "Epoch 18/50\n",
      "25/26 [===========================>..] - ETA: 0s - loss: 0.5644 - accuracy: 0.7410\n",
      "Epoch 00018: val_accuracy improved from 0.67083 to 0.70556, saving model to best_model_5conv2dense_woutBG.h5\n",
      "26/26 [==============================] - 22s 842ms/step - loss: 0.5641 - accuracy: 0.7401 - val_loss: 0.6054 - val_accuracy: 0.7056\n",
      "Epoch 19/50\n",
      "25/26 [===========================>..] - ETA: 0s - loss: 0.5302 - accuracy: 0.7539\n",
      "Epoch 00019: val_accuracy did not improve from 0.70556\n",
      "26/26 [==============================] - 15s 563ms/step - loss: 0.5285 - accuracy: 0.7556 - val_loss: 1.0011 - val_accuracy: 0.6431\n",
      "Epoch 20/50\n",
      "25/26 [===========================>..] - ETA: 0s - loss: 0.5022 - accuracy: 0.7674\n",
      "Epoch 00020: val_accuracy did not improve from 0.70556\n",
      "26/26 [==============================] - 13s 497ms/step - loss: 0.5097 - accuracy: 0.7624 - val_loss: 0.8587 - val_accuracy: 0.6653\n",
      "Epoch 21/50\n",
      "25/26 [===========================>..] - ETA: 0s - loss: 0.5054 - accuracy: 0.7642\n",
      "Epoch 00021: val_accuracy did not improve from 0.70556\n",
      "26/26 [==============================] - 14s 541ms/step - loss: 0.5038 - accuracy: 0.7649 - val_loss: 1.8230 - val_accuracy: 0.6333\n",
      "Epoch 22/50\n",
      "25/26 [===========================>..] - ETA: 0s - loss: 0.5295 - accuracy: 0.7661\n",
      "Epoch 00022: val_accuracy did not improve from 0.70556\n",
      "26/26 [==============================] - 14s 541ms/step - loss: 0.5270 - accuracy: 0.7679 - val_loss: 1.7915 - val_accuracy: 0.6694\n",
      "Epoch 23/50\n",
      "25/26 [===========================>..] - ETA: 0s - loss: 0.4997 - accuracy: 0.7642\n",
      "Epoch 00023: val_accuracy improved from 0.70556 to 0.73056, saving model to best_model_5conv2dense_woutBG.h5\n",
      "26/26 [==============================] - 23s 899ms/step - loss: 0.5002 - accuracy: 0.7673 - val_loss: 0.6420 - val_accuracy: 0.7306\n",
      "Epoch 24/50\n",
      "25/26 [===========================>..] - ETA: 0s - loss: 0.4874 - accuracy: 0.7706\n",
      "Epoch 00024: val_accuracy did not improve from 0.73056\n",
      "26/26 [==============================] - 17s 670ms/step - loss: 0.4881 - accuracy: 0.7704 - val_loss: 0.8169 - val_accuracy: 0.6833\n",
      "Epoch 25/50\n",
      "25/26 [===========================>..] - ETA: 0s - loss: 0.4806 - accuracy: 0.7713\n",
      "Epoch 00025: val_accuracy improved from 0.73056 to 0.76667, saving model to best_model_5conv2dense_woutBG.h5\n",
      "26/26 [==============================] - 26s 1s/step - loss: 0.4788 - accuracy: 0.7729 - val_loss: 0.5641 - val_accuracy: 0.7667\n",
      "Epoch 26/50\n",
      "25/26 [===========================>..] - ETA: 0s - loss: 0.5063 - accuracy: 0.7571\n",
      "Epoch 00026: val_accuracy did not improve from 0.76667\n",
      "26/26 [==============================] - 15s 572ms/step - loss: 0.4985 - accuracy: 0.7611 - val_loss: 2.0039 - val_accuracy: 0.6639\n",
      "Epoch 27/50\n",
      "25/26 [===========================>..] - ETA: 0s - loss: 0.5126 - accuracy: 0.7719\n",
      "Epoch 00027: val_accuracy did not improve from 0.76667\n",
      "26/26 [==============================] - 18s 684ms/step - loss: 0.5071 - accuracy: 0.7754 - val_loss: 0.8608 - val_accuracy: 0.6736\n"
     ]
    },
    {
     "name": "stdout",
     "output_type": "stream",
     "text": [
      "Epoch 28/50\n",
      "25/26 [===========================>..] - ETA: 0s - loss: 0.4850 - accuracy: 0.7706\n",
      "Epoch 00028: val_accuracy did not improve from 0.76667\n",
      "26/26 [==============================] - 18s 709ms/step - loss: 0.4832 - accuracy: 0.7704 - val_loss: 1.3434 - val_accuracy: 0.6500\n",
      "Epoch 29/50\n",
      "25/26 [===========================>..] - ETA: 0s - loss: 0.5030 - accuracy: 0.7629\n",
      "Epoch 00029: val_accuracy did not improve from 0.76667\n",
      "26/26 [==============================] - 16s 617ms/step - loss: 0.4987 - accuracy: 0.7655 - val_loss: 2.4031 - val_accuracy: 0.6208\n",
      "Epoch 30/50\n",
      "25/26 [===========================>..] - ETA: 0s - loss: 0.4885 - accuracy: 0.7732\n",
      "Epoch 00030: val_accuracy did not improve from 0.76667\n",
      "26/26 [==============================] - 17s 642ms/step - loss: 0.4854 - accuracy: 0.7754 - val_loss: 0.9157 - val_accuracy: 0.6597\n",
      "Epoch 31/50\n",
      "25/26 [===========================>..] - ETA: 0s - loss: 0.4486 - accuracy: 0.7816\n",
      "Epoch 00031: val_accuracy did not improve from 0.76667\n",
      "26/26 [==============================] - 18s 710ms/step - loss: 0.4555 - accuracy: 0.7797 - val_loss: 2.1415 - val_accuracy: 0.6500\n",
      "Epoch 32/50\n",
      "25/26 [===========================>..] - ETA: 0s - loss: 0.4693 - accuracy: 0.7835\n",
      "Epoch 00032: val_accuracy did not improve from 0.76667\n",
      "26/26 [==============================] - 19s 740ms/step - loss: 0.4670 - accuracy: 0.7816 - val_loss: 0.8079 - val_accuracy: 0.6764\n",
      "Epoch 33/50\n",
      "25/26 [===========================>..] - ETA: 0s - loss: 0.4465 - accuracy: 0.7977\n",
      "Epoch 00033: val_accuracy did not improve from 0.76667\n",
      "26/26 [==============================] - 22s 860ms/step - loss: 0.4491 - accuracy: 0.7958 - val_loss: 1.3625 - val_accuracy: 0.6542\n",
      "Epoch 34/50\n",
      "25/26 [===========================>..] - ETA: 0s - loss: 0.4614 - accuracy: 0.7812\n",
      "Epoch 00034: val_accuracy did not improve from 0.76667\n",
      "26/26 [==============================] - 22s 838ms/step - loss: 0.4634 - accuracy: 0.7812 - val_loss: 2.7201 - val_accuracy: 0.6528\n",
      "Epoch 35/50\n",
      "25/26 [===========================>..] - ETA: 0s - loss: 0.4441 - accuracy: 0.7867\n",
      "Epoch 00035: val_accuracy did not improve from 0.76667\n",
      "26/26 [==============================] - 24s 909ms/step - loss: 0.4435 - accuracy: 0.7871 - val_loss: 2.3200 - val_accuracy: 0.6500\n",
      "Epoch 36/50\n",
      "25/26 [===========================>..] - ETA: 1s - loss: 0.4669 - accuracy: 0.7777\n",
      "Epoch 00036: val_accuracy did not improve from 0.76667\n",
      "26/26 [==============================] - 32s 1s/step - loss: 0.4705 - accuracy: 0.7741 - val_loss: 2.6164 - val_accuracy: 0.6194\n",
      "Epoch 37/50\n",
      "25/26 [===========================>..] - ETA: 0s - loss: 0.4443 - accuracy: 0.7874\n",
      "Epoch 00037: val_accuracy did not improve from 0.76667\n",
      "26/26 [==============================] - 22s 864ms/step - loss: 0.4464 - accuracy: 0.7871 - val_loss: 2.3830 - val_accuracy: 0.6236\n",
      "Epoch 38/50\n",
      "25/26 [===========================>..] - ETA: 0s - loss: 0.4885 - accuracy: 0.7629\n",
      "Epoch 00038: val_accuracy did not improve from 0.76667\n",
      "26/26 [==============================] - 23s 870ms/step - loss: 0.4895 - accuracy: 0.7649 - val_loss: 3.7362 - val_accuracy: 0.6139\n",
      "Epoch 39/50\n",
      "25/26 [===========================>..] - ETA: 0s - loss: 0.4610 - accuracy: 0.7732\n",
      "Epoch 00039: val_accuracy did not improve from 0.76667\n",
      "26/26 [==============================] - 27s 1s/step - loss: 0.4590 - accuracy: 0.7741 - val_loss: 2.8360 - val_accuracy: 0.6194\n",
      "Epoch 40/50\n",
      "25/26 [===========================>..] - ETA: 0s - loss: 0.4327 - accuracy: 0.7925\n",
      "Epoch 00040: val_accuracy did not improve from 0.76667\n",
      "26/26 [==============================] - 24s 934ms/step - loss: 0.4307 - accuracy: 0.7939 - val_loss: 3.8103 - val_accuracy: 0.6111\n",
      "Epoch 41/50\n",
      "25/26 [===========================>..] - ETA: 0s - loss: 0.4359 - accuracy: 0.7951\n",
      "Epoch 00041: val_accuracy did not improve from 0.76667\n",
      "26/26 [==============================] - 26s 981ms/step - loss: 0.4435 - accuracy: 0.7890 - val_loss: 3.0887 - val_accuracy: 0.6194\n",
      "Epoch 42/50\n",
      "25/26 [===========================>..] - ETA: 1s - loss: 0.4288 - accuracy: 0.7957\n",
      "Epoch 00042: val_accuracy did not improve from 0.76667\n",
      "26/26 [==============================] - 28s 1s/step - loss: 0.4309 - accuracy: 0.7946 - val_loss: 3.3732 - val_accuracy: 0.6194\n",
      "Epoch 43/50\n",
      "25/26 [===========================>..] - ETA: 0s - loss: 0.4359 - accuracy: 0.8041\n",
      "Epoch 00043: val_accuracy did not improve from 0.76667\n",
      "26/26 [==============================] - 24s 904ms/step - loss: 0.4439 - accuracy: 0.8020 - val_loss: 5.8412 - val_accuracy: 0.6167\n",
      "Epoch 44/50\n",
      "25/26 [===========================>..] - ETA: 0s - loss: 0.4381 - accuracy: 0.7957\n",
      "Epoch 00044: val_accuracy did not improve from 0.76667\n",
      "26/26 [==============================] - 25s 965ms/step - loss: 0.4381 - accuracy: 0.7939 - val_loss: 3.0005 - val_accuracy: 0.6167\n",
      "Epoch 45/50\n",
      "25/26 [===========================>..] - ETA: 0s - loss: 0.4393 - accuracy: 0.7880\n",
      "Epoch 00045: val_accuracy did not improve from 0.76667\n",
      "26/26 [==============================] - 25s 947ms/step - loss: 0.4414 - accuracy: 0.7871 - val_loss: 1.7083 - val_accuracy: 0.6319\n",
      "Epoch 46/50\n",
      "25/26 [===========================>..] - ETA: 0s - loss: 0.4289 - accuracy: 0.8041\n",
      "Epoch 00046: val_accuracy did not improve from 0.76667\n",
      "26/26 [==============================] - 26s 984ms/step - loss: 0.4262 - accuracy: 0.8051 - val_loss: 1.4245 - val_accuracy: 0.6208\n",
      "Epoch 47/50\n",
      "25/26 [===========================>..] - ETA: 0s - loss: 0.4793 - accuracy: 0.7771\n",
      "Epoch 00047: val_accuracy did not improve from 0.76667\n",
      "26/26 [==============================] - 23s 877ms/step - loss: 0.4813 - accuracy: 0.7760 - val_loss: 1.9407 - val_accuracy: 0.6583\n",
      "Epoch 48/50\n",
      "25/26 [===========================>..] - ETA: 1s - loss: 0.5183 - accuracy: 0.7648\n",
      "Epoch 00048: val_accuracy did not improve from 0.76667\n",
      "26/26 [==============================] - 30s 1s/step - loss: 0.5161 - accuracy: 0.7661 - val_loss: 3.2116 - val_accuracy: 0.6458\n",
      "Epoch 49/50\n",
      "25/26 [===========================>..] - ETA: 1s - loss: 0.4816 - accuracy: 0.7713\n",
      "Epoch 00049: val_accuracy did not improve from 0.76667\n",
      "26/26 [==============================] - 38s 1s/step - loss: 0.4871 - accuracy: 0.7704 - val_loss: 3.5808 - val_accuracy: 0.6361\n",
      "Epoch 50/50\n",
      "25/26 [===========================>..] - ETA: 0s - loss: 0.4694 - accuracy: 0.7822\n",
      "Epoch 00050: val_accuracy did not improve from 0.76667\n",
      "26/26 [==============================] - 27s 1s/step - loss: 0.4678 - accuracy: 0.7828 - val_loss: 2.8566 - val_accuracy: 0.6361\n"
     ]
    }
   ],
   "source": [
    "history = model.fit_generator(\n",
    "    aug.flow(x_train, y_train, batch_size=BS),\n",
    "    validation_data=(x_test, y_test),\n",
    "    steps_per_epoch=len(x_train) // BS,\n",
    "    epochs=EPOCHS, verbose=1,\n",
    "    callbacks=[checkpoint]\n",
    "    )"
   ]
  },
  {
   "cell_type": "code",
   "execution_count": 16,
   "metadata": {
    "ExecuteTime": {
     "end_time": "2019-12-11T19:41:32.829793Z",
     "start_time": "2019-12-11T19:41:32.283651Z"
    }
   },
   "outputs": [
    {
     "data": {
      "image/png": "[encoded data removed]",
      "text/plain": [
       "<Figure size 432x288 with 1 Axes>"
      ]
     },
     "metadata": {
      "needs_background": "light"
     },
     "output_type": "display_data"
    },
    {
     "data": {
      "image/png": "[encoded data removed]",
      "text/plain": [
       "<Figure size 432x288 with 1 Axes>"
      ]
     },
     "metadata": {
      "needs_background": "light"
     },
     "output_type": "display_data"
    }
   ],
   "source": [
    "acc = history.history['accuracy']\n",
    "val_acc = history.history['val_accuracy']\n",
    "loss = history.history['loss']\n",
    "val_loss = history.history['val_loss']\n",
    "epochs = range(1, len(acc) + 1)\n",
    "#Train and validation accuracy\n",
    "plt.plot(epochs, acc, 'b', label='Training accurarcy')\n",
    "plt.plot(epochs, val_acc, 'r', label='Validation accurarcy')\n",
    "plt.title('Training and Validation accurarcy')\n",
    "plt.legend()\n",
    "\n",
    "plt.figure()\n",
    "#Train and validation loss\n",
    "plt.plot(epochs, loss, 'b', label='Training loss')\n",
    "plt.plot(epochs, val_loss, 'r', label='Validation loss')\n",
    "plt.title('Training and Validation loss')\n",
    "plt.legend()\n",
    "plt.show()"
   ]
  },
  {
   "cell_type": "code",
   "execution_count": 17,
   "metadata": {},
   "outputs": [],
   "source": [
    "# save model\n",
    "model.save(\"D://Moy Hao Zhen/University of Malaya/Sem 5 - Internship Intel/UMHackathon/archive/NewDataset/v1.model\", save_format=\"h5\")"
   ]
  },
  {
   "cell_type": "code",
   "execution_count": 18,
   "metadata": {
    "ExecuteTime": {
     "end_time": "2019-12-11T19:41:54.029510Z",
     "start_time": "2019-12-11T19:41:53.055425Z"
    }
   },
   "outputs": [
    {
     "data": {
      "text/plain": [
       "<tensorflow.python.keras.engine.sequential.Sequential at 0x2b5e90ceac8>"
      ]
     },
     "execution_count": 18,
     "metadata": {},
     "output_type": "execute_result"
    }
   ],
   "source": [
    "# model = model.load('best_model_5conv2dense.h5')\n",
    "from tensorflow.keras.models import load_model\n",
    "from tensorflow.keras.models import model_from_json\n",
    "\n",
    "# json_file = open('D://Moy Hao Zhen/University of Malaya/Sem 5 - Internship Intel/UMHackathon/archive/LabelledRice/rice_disease_classifer.model', 'r')\n",
    "# loaded_model = model.load\n",
    "# json_file.close()\n",
    "# loaded_model = model_from_json(loaded_model_json)\n",
    "# loaded_model.compile(loss=\"binary_crossentropy\", optimizer=opt,metrics=[\"accuracy\"])\n",
    "\n",
    "# # load weights into new model\n",
    "# loaded_model.load_weights(\"best_model_5conv2dense_woutBG.h5\")\n",
    "model_trained = load_model(\"D://Moy Hao Zhen/University of Malaya/Sem 5 - Internship Intel/UMHackathon/archive/NewDataset/v1.model\")\n",
    "model_trained"
   ]
  },
  {
   "cell_type": "code",
   "execution_count": 19,
   "metadata": {
    "ExecuteTime": {
     "end_time": "2019-12-11T19:42:10.406761Z",
     "start_time": "2019-12-11T19:42:05.107608Z"
    }
   },
   "outputs": [
    {
     "name": "stdout",
     "output_type": "stream",
     "text": [
      "[INFO] Calculating model accuracy\n",
      "180/180 [==============================] - 4s 21ms/sample - loss: 2.8566 - accuracy: 0.6361\n",
      "Test Accuracy: 63.61111402511597\n"
     ]
    }
   ],
   "source": [
    "print(\"[INFO] Calculating model accuracy\")\n",
    "scores = model_trained.evaluate(x_test, y_test)\n",
    "print(f\"Test Accuracy: {scores[1]*100}\")"
   ]
  },
  {
   "cell_type": "markdown",
   "metadata": {},
   "source": [
    "### Looking at each type of leaf:"
   ]
  },
  {
   "cell_type": "code",
   "execution_count": 20,
   "metadata": {
    "ExecuteTime": {
     "end_time": "2019-12-11T19:42:14.152938Z",
     "start_time": "2019-12-11T19:42:12.904658Z"
    }
   },
   "outputs": [
    {
     "name": "stdout",
     "output_type": "stream",
     "text": [
      "53/53 [==============================] - 1s 23ms/sample - loss: 2.5788 - accuracy: 0.5566\n",
      "Test Accuracy: 55.66037893295288\n"
     ]
    }
   ],
   "source": [
    "scores_brownspot = model_trained.evaluate(x_test[y_test[:,0]==1], y_test[y_test[:,0]==1])\n",
    "print(f\"Test Accuracy: {scores_brownspot[1]*100}\")"
   ]
  },
  {
   "cell_type": "code",
   "execution_count": 21,
   "metadata": {
    "ExecuteTime": {
     "end_time": "2019-12-11T19:42:18.690298Z",
     "start_time": "2019-12-11T19:42:16.648724Z"
    }
   },
   "outputs": [
    {
     "name": "stdout",
     "output_type": "stream",
     "text": [
      "45/45 [==============================] - 1s 27ms/sample - loss: 0.0476 - accuracy: 0.9778\n",
      "Test Accuracy: 97.77777791023254\n"
     ]
    }
   ],
   "source": [
    "scores_healthy = model_trained.evaluate(x_test[y_test[:,1]==1], y_test[y_test[:,1]==1])\n",
    "print(f\"Test Accuracy: {scores_healthy[1]*100}\")"
   ]
  },
  {
   "cell_type": "code",
   "execution_count": 22,
   "metadata": {
    "ExecuteTime": {
     "end_time": "2019-12-11T19:42:22.293304Z",
     "start_time": "2019-12-11T19:42:21.193715Z"
    }
   },
   "outputs": [
    {
     "name": "stdout",
     "output_type": "stream",
     "text": [
      "40/40 [==============================] - 1s 26ms/sample - loss: 4.9770 - accuracy: 0.5000\n",
      "Test Accuracy: 50.0\n"
     ]
    }
   ],
   "source": [
    "scores_hispa = model_trained.evaluate(x_test[y_test[:,2]==1], y_test[y_test[:,2]==1])\n",
    "print(f\"Test Accuracy: {scores_hispa[1]*100}\")"
   ]
  },
  {
   "cell_type": "code",
   "execution_count": 23,
   "metadata": {
    "ExecuteTime": {
     "end_time": "2019-12-11T19:42:26.245883Z",
     "start_time": "2019-12-11T19:42:24.836716Z"
    }
   },
   "outputs": [
    {
     "name": "stdout",
     "output_type": "stream",
     "text": [
      "42/42 [==============================] - 1s 26ms/sample - loss: 4.1972 - accuracy: 0.5000\n",
      "Test Accuracy: 50.0\n"
     ]
    }
   ],
   "source": [
    "scores_leafblast = model_trained.evaluate(x_test[y_test[:,3]==1], y_test[y_test[:,3]==1])\n",
    "print(f\"Test Accuracy: {scores_leafblast[1]*100}\")"
   ]
  },
  {
   "cell_type": "markdown",
   "metadata": {},
   "source": [
    "## Results\n",
    "\n",
    "\n",
    "Training all the models discussed with the processed images, the accuracy of each model on a validation set is shown in Table 1. Comparing the different models, the model trained from top to bottom yielded the highest accuracy at 78.2%.\n"
   ]
  },
  {
   "cell_type": "markdown",
   "metadata": {},
   "source": [
    "<!-- \\begin{table}[]\n",
    "\\begin{tabular}{ll} -->\n",
    "\n",
    "| Base model                                      | Accuracy |\n",
    "|----|----|\n",
    "|VGG16 | 58.4\\% | \n",
    "|VGG16 (with first three blocks are frozen) | 72.2\\%  |\n",
    "|VGG19                                           | 72.4\\%   |\n",
    "|XCeption                                        | 72.2\\%   |\n",
    "|ResNet50                                        | 72.2\\%   |\n",
    "|5-layer convolution                             | 78.2\\%  |\n"
   ]
  },
  {
   "cell_type": "markdown",
   "metadata": {},
   "source": [
    "Looking further into the best model and how well it predicts each class, an 85.3% accuracy was found for brown spot, 54.4% for hispa, and 62.0% for leaf blast. On the other hand for healthy rice leaves, it was classified accurately 92.2% of the time. From this, discrepancies on prediction power of the model to different classifications can be observed. Except for brown spots, the model only accurately predicts more than half of rice leaves with disease. \n",
    "\n",
    "This can be attributed to the dataset used wherein the progression of the disease on the leaves were at its initial stages, so the symptoms are not that developed yet. While the model suffers from relatively low accuracy because of this, the power to predict disease at an earlier stage would give the farmers the opportunity to treat the diseases even before it spreads. This would save them time and energy that they have limited amount of and allow them to focus on the growth of their crops with less worries. That said, seeing how effective the model is on predicting if healthy rice leaves are actually healthy, it can prevent farmers from unnecessarily providing treatment when the plants are actually healthy."
   ]
  },
  {
   "cell_type": "markdown",
   "metadata": {},
   "source": [
    "## Conclusions and Recommendations"
   ]
  },
  {
   "cell_type": "markdown",
   "metadata": {},
   "source": [
    "Three different classifications of rice leaf diseases were studied and compared with the healthy rice leaf using the convolutional neural network. Using more than 3000 images as training data and different image pre-processing techniques, we were able to identify what type of disease a leaf has with 78.2\\% accuracy. Diving deeper, we can accurately classify a healthy leaf as healthy which would aid the farmers save resources by not treating the already healthy plants.\n",
    "\n",
    "For future studies, we recommend to improve the accuracy of prediction by exploring other network architecture or adding layers or nodes to the current model, scale the project to other diseases for the model to be more general, and, lastly, consult with farmers and consider their input into the pre-processing and deployment of the model.\n"
   ]
  },
  {
   "cell_type": "markdown",
   "metadata": {},
   "source": [
    "## Acknowledgements"
   ]
  },
  {
   "cell_type": "markdown",
   "metadata": {},
   "source": [
    "  The authors would like to acknowledge our Machine Learning 2.0 professors, Prof. Christopher Monterola, and Prof. Erika Legara for all their guidance and support for the completion of this project. "
   ]
  },
  {
   "cell_type": "code",
   "execution_count": 78,
   "metadata": {},
   "outputs": [
    {
     "data": {
      "text/plain": [
       "array([[0.10443973, 0.4192321 , 0.25452194, 0.22180624]], dtype=float32)"
      ]
     },
     "execution_count": 78,
     "metadata": {},
     "output_type": "execute_result"
    }
   ],
   "source": [
    "model_trained.predict(x_test[y_test[:,1]==1][0][np.newaxis])"
   ]
  },
  {
   "cell_type": "code",
   "execution_count": 58,
   "metadata": {},
   "outputs": [],
   "source": [
    "#reshape('D://Moy Hao Zhen/University of Malaya/Sem 5 - Internship Intel/UMHackathon/archive/Test/Labelled/LeafBlast/leafblast1.png')\n",
    "hispa_path = glob.glob(main_directory + '/BGRemoved/Healthy/*')\n",
    "#print(hispa_path)\n",
    "#picture = '/LabelledRice/BGRemoved/Hispa/IMG_20190419_161920.jpg'\n",
    "result = []\n",
    "for i in hispa_path:\n",
    "    #an_image3 = convert_image_to_array('D://Moy Hao Zhen/University of Malaya/Sem 5 - Internship Intel/UMHackathon/archive'+picture)\n",
    "    an_image3 = convert_image_to_array(i)\n",
    "    an_image3 = an_image3[np.newaxis]\n",
    "    np_image3_list = np.array(an_image3, dtype=np.float16) / 225.0\n",
    "    #print(an_image.shape)\n",
    "    index_labelled = ['BrownSpot', 'Healthy', 'Hispa', 'LeafBlast']\n",
    "    prob = model_trained.predict(np_image3_list)[0]\n",
    "    #print(prob)\n",
    "    #print(index_labelled[np.argmax(model_trained.predict(np_image3_list)[0])])\n",
    "    result.append(index_labelled[np.argmax(model_trained.predict(np_image3_list)[0])])\n"
   ]
  },
  {
   "cell_type": "code",
   "execution_count": 26,
   "metadata": {},
   "outputs": [
    {
     "data": {
      "text/plain": [
       "(2348, 256, 256, 3)"
      ]
     },
     "execution_count": 26,
     "metadata": {},
     "output_type": "execute_result"
    }
   ],
   "source": [
    "x_train.shape"
   ]
  },
  {
   "cell_type": "code",
   "execution_count": 30,
   "metadata": {},
   "outputs": [
    {
     "data": {
      "text/plain": [
       "array([[[1.1333333, 1.1333333, 1.1333333],\n",
       "        [1.1333333, 1.1333333, 1.1333333],\n",
       "        [1.1333333, 1.1333333, 1.1333333],\n",
       "        ...,\n",
       "        [1.1333333, 1.1333333, 1.1333333],\n",
       "        [1.1333333, 1.1333333, 1.1333333],\n",
       "        [1.1333333, 1.1333333, 1.1333333]],\n",
       "\n",
       "       [[1.1333333, 1.1333333, 1.1333333],\n",
       "        [1.1333333, 1.1333333, 1.1333333],\n",
       "        [1.1333333, 1.1333333, 1.1333333],\n",
       "        ...,\n",
       "        [1.1333333, 1.1333333, 1.1333333],\n",
       "        [1.1333333, 1.1333333, 1.1333333],\n",
       "        [1.1333333, 1.1333333, 1.1333333]],\n",
       "\n",
       "       [[1.1333333, 1.1333333, 1.1333333],\n",
       "        [1.1333333, 1.1333333, 1.1333333],\n",
       "        [1.1333333, 1.1333333, 1.1333333],\n",
       "        ...,\n",
       "        [1.1333333, 1.1333333, 1.1333333],\n",
       "        [1.1333333, 1.1333333, 1.1333333],\n",
       "        [1.1333333, 1.1333333, 1.1333333]],\n",
       "\n",
       "       ...,\n",
       "\n",
       "       [[1.1333333, 1.1333333, 1.1333333],\n",
       "        [1.1333333, 1.1333333, 1.1333333],\n",
       "        [1.1333333, 1.1333333, 1.1333333],\n",
       "        ...,\n",
       "        [1.1333333, 1.1333333, 1.1333333],\n",
       "        [1.1333333, 1.1333333, 1.1333333],\n",
       "        [1.1333333, 1.1333333, 1.1333333]],\n",
       "\n",
       "       [[1.1333333, 1.1333333, 1.1333333],\n",
       "        [1.1333333, 1.1333333, 1.1333333],\n",
       "        [1.1333333, 1.1333333, 1.1333333],\n",
       "        ...,\n",
       "        [1.1333333, 1.1333333, 1.1333333],\n",
       "        [1.1333333, 1.1333333, 1.1333333],\n",
       "        [1.1333333, 1.1333333, 1.1333333]],\n",
       "\n",
       "       [[1.1333333, 1.1333333, 1.1333333],\n",
       "        [1.1333333, 1.1333333, 1.1333333],\n",
       "        [1.1333333, 1.1333333, 1.1333333],\n",
       "        ...,\n",
       "        [1.1333333, 1.1333333, 1.1333333],\n",
       "        [1.1333333, 1.1333333, 1.1333333],\n",
       "        [1.1333333, 1.1333333, 1.1333333]]], dtype=float32)"
      ]
     },
     "execution_count": 30,
     "metadata": {},
     "output_type": "execute_result"
    }
   ],
   "source": [
    "an_image = convert_image_to_array('D://Moy Hao Zhen/University of Malaya/Sem 5 - Internship Intel/UMHackathon/archive/Test/Labelled/BrownSpot/brownspot1.jpg')\n"
   ]
  },
  {
   "cell_type": "code",
   "execution_count": null,
   "metadata": {},
   "outputs": [],
   "source": []
  }
 ],
 "metadata": {
  "kernelspec": {
   "display_name": "gputest",
   "language": "python",
   "name": "gputest"
  },
  "language_info": {
   "codemirror_mode": {
    "name": "ipython",
    "version": 3
   },
   "file_extension": ".py",
   "mimetype": "text/x-python",
   "name": "python",
   "nbconvert_exporter": "python",
   "pygments_lexer": "ipython3",
   "version": "3.7.11"
  },
  "toc": {
   "base_numbering": 1,
   "nav_menu": {},
   "number_sections": false,
   "sideBar": true,
   "skip_h1_title": false,
   "title_cell": "Table of Contents",
   "title_sidebar": "Contents",
   "toc_cell": false,
   "toc_position": {
    "height": "calc(100% - 180px)",
    "left": "10px",
    "top": "150px",
    "width": "202.188px"
   },
   "toc_section_display": true,
   "toc_window_display": true
  },
  "varInspector": {
   "cols": {
    "lenName": 16,
    "lenType": 16,
    "lenVar": 40
   },
   "kernels_config": {
    "python": {
     "delete_cmd_postfix": "",
     "delete_cmd_prefix": "del ",
     "library": "var_list.py",
     "varRefreshCmd": "print(var_dic_list())"
    },
    "r": {
     "delete_cmd_postfix": ") ",
     "delete_cmd_prefix": "rm(",
     "library": "var_list.r",
     "varRefreshCmd": "cat(var_dic_list()) "
    }
   },
   "types_to_exclude": [
    "module",
    "function",
    "builtin_function_or_method",
    "instance",
    "_Feature"
   ],
   "window_display": false
  }
 },
 "nbformat": 4,
 "nbformat_minor": 2
}
