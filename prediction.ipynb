{
 "cells": [
  {
   "cell_type": "code",
   "execution_count": 1,
   "id": "c06135da",
   "metadata": {},
   "outputs": [],
   "source": [
    "from tensorflow.keras.applications.mobilenet_v2 import preprocess_input\n",
    "from tensorflow.keras.preprocessing.image import img_to_array\n",
    "from tensorflow.keras.models import load_model\n",
    "import numpy as np\n",
    "import tensorflow as tf\n",
    "import cv2\n",
    "from PIL import Image\n",
    "from os import listdir"
   ]
  },
  {
   "cell_type": "code",
   "execution_count": 2,
   "id": "9debd865",
   "metadata": {},
   "outputs": [
    {
     "data": {
      "text/plain": [
       "<tensorflow.python.keras.engine.sequential.Sequential at 0x1f1eadb9548>"
      ]
     },
     "execution_count": 2,
     "metadata": {},
     "output_type": "execute_result"
    }
   ],
   "source": [
    "model_trained = load_model(\"D://Moy Hao Zhen/University of Malaya/Sem 5 - Internship Intel/UMHackathon/archive/LabelledRice/rice_disease_classifer_v1_test_6676.model\")\n",
    "model_trained"
   ]
  },
  {
   "cell_type": "code",
   "execution_count": null,
   "id": "fff5e260",
   "metadata": {},
   "outputs": [],
   "source": [
    "# import cv2\n",
    "# # Load the input image from disk, clone it, and grab the image spatial dimensions\n",
    "# path = 'D://Moy Hao Zhen/University of Malaya/Sem 5 - Internship Intel/UMHackathon/archive/Test/Labelled/BrownSpot/brownspot1.png'\n",
    "# image = cv2.imread(path)\n",
    "# orig = image.copy()\n",
    "# (h, w) = image.shape[:2]"
   ]
  },
  {
   "cell_type": "code",
   "execution_count": 37,
   "id": "4a4520b4",
   "metadata": {},
   "outputs": [],
   "source": [
    "# reshape\n",
    "def reshape(path):\n",
    "    basewidth = 300\n",
    "    img = Image.open(path)\n",
    "    wpercent = (basewidth/float(img.size[0]))\n",
    "    #hsize = int((float(img.size[1])*float(wpercent)))\n",
    "    img = img.resize((basewidth,basewidth), Image.ANTIALIAS)\n",
    "    newpath = path.replace(\"Labelled\", \"Reshape\")\n",
    "    print(newpath)\n",
    "    img.save(newpath)\n"
   ]
  },
  {
   "cell_type": "code",
   "execution_count": null,
   "id": "f35e499c",
   "metadata": {},
   "outputs": [],
   "source": [
    "#background remove\n",
    "from skimage.morphology import binary_closing, binary_opening, erosion"
   ]
  },
  {
   "cell_type": "code",
   "execution_count": null,
   "id": "6439be22",
   "metadata": {},
   "outputs": [],
   "source": [
    "selem = np.zeros((25, 25))\n",
    "\n",
    "ci,cj=12, 12\n",
    "cr=13\n",
    "\n",
    "# Create index arrays to z\n",
    "I,J=np.meshgrid(np.arange(selem.shape[0]),np.arange(selem.shape[1]))\n",
    "\n",
    "# calculate distance of all points to centre\n",
    "dist=np.sqrt((I-ci)**2+(J-cj)**2)\n",
    "\n",
    "# Assign value of 1 to those points where dist<cr:\n",
    "selem[np.where(dist<=cr)]=1"
   ]
  },
  {
   "cell_type": "code",
   "execution_count": null,
   "id": "5f97f4cf",
   "metadata": {},
   "outputs": [],
   "source": [
    "%matplotlib inline\n",
    "import numpy as np\n",
    "from scipy import ndimage\n",
    "\n",
    "# fig, ax = plt.subplots(20,2, figsize=(10,80))\n",
    "idx = 0\n",
    "\n",
    "bg_frac = 0\n",
    "thres = 220\n",
    "img = Image.open('D://Moy Hao Zhen/University of Malaya/Sem 5 - Internship Intel/UMHackathon/archive/Test/Reshape/BrownSpot/brownspot1.png')\n",
    "im_arr = np.array(img)\n",
    "#     ax[idx, 0].imshow(im_arr)\n",
    "R = im_arr[:, :, 0]\n",
    "G = im_arr[:, :, 1]\n",
    "B = im_arr[:, :, 2]\n",
    "while bg_frac < 0.6: \n",
    "    bg_mask = ((R>thres) | (B>thres))# & (G < 100)\n",
    "    bg_frac = bg_mask.sum()/len(bg_mask.flatten())\n",
    "    thres -= 5\n",
    "# we use opening first since our mask is reversed (the foreground and background are reversed here)\n",
    "bg_mask = binary_closing(erosion(binary_opening(bg_mask, selem), np.ones((3, 3))), np.ones((5,5)))\n",
    "\n",
    "#Get biggest blob\n",
    "label, num_label = ndimage.label(~bg_mask)\n",
    "size = np.bincount(label.ravel())\n",
    "biggest_label = size[1:].argmax() + 1\n",
    "bg_mask = label == biggest_label\n",
    "\n",
    "im_arr[~bg_mask, 0] = 255\n",
    "im_arr[~bg_mask, 1] = 255\n",
    "im_arr[~bg_mask, 2] = 255\n",
    "\n",
    "img = Image.fromarray(im_arr)\n",
    "img.save('D://Moy Hao Zhen/University of Malaya/Sem 5 - Internship Intel/UMHackathon/archive/Test/BGRemoved/BrownSpot/brownspot1.png')\n",
    "idx+=1"
   ]
  },
  {
   "cell_type": "code",
   "execution_count": null,
   "id": "ae41f2cf",
   "metadata": {},
   "outputs": [],
   "source": [
    "'''\n",
    "import numpy as np\n",
    "import cv2 as cv\n",
    "from matplotlib import pyplot as plt\n",
    "import sys\n",
    "from  PIL  import Image\n",
    "\n",
    "img = cv.imread('D://Moy Hao Zhen/University of Malaya/Sem 5 - Internship Intel/UMHackathon/archive/Test/Reshape/BrownSpot/brownspot1.png', cv.IMREAD_UNCHANGED)\n",
    "original = img.copy()\n",
    "\n",
    "l = int(max(5, 6))\n",
    "u = int(min(6, 6))\n",
    "\n",
    "ed = cv.cvtColor(img, cv.COLOR_BGR2GRAY)\n",
    "edges = cv.GaussianBlur(img, (21, 51), 3)\n",
    "edges = cv.cvtColor(edges, cv.COLOR_BGR2GRAY)\n",
    "edges = cv.Canny(edges, l, u)\n",
    "\n",
    "_, thresh = cv.threshold(edges, 0, 255, cv.THRESH_BINARY  + cv.THRESH_OTSU)\n",
    "kernel = cv.getStructuringElement(cv.MORPH_ELLIPSE, (5, 5))\n",
    "mask = cv.morphologyEx(thresh, cv.MORPH_CLOSE, kernel, iterations=4)\n",
    "\n",
    "data = mask.tolist()\n",
    "sys.setrecursionlimit(10**8)\n",
    "for i in  range(len(data)):\n",
    "    for j in  range(len(data[i])):\n",
    "        if data[i][j] !=  255:\n",
    "            data[i][j] =  -1\n",
    "        else:\n",
    "            break\n",
    "    for j in  range(len(data[i])-1, -1, -1):\n",
    "        if data[i][j] !=  255:\n",
    "            data[i][j] =  -1\n",
    "        else:\n",
    "            break\n",
    "image = np.array(data)\n",
    "image[image !=  -1] =  255\n",
    "image[image ==  -1] =  0\n",
    "\n",
    "mask = np.array(image, np.uint8)\n",
    "\n",
    "result = cv.bitwise_and(original, original, mask=mask)\n",
    "result[mask ==  0] =  255\n",
    "cv.imwrite('D://Moy Hao Zhen/University of Malaya/Sem 5 - Internship Intel/UMHackathon/archive/Test/BGRemoved/BrownSpot/brownspot1.png', result)\n",
    "\n",
    "\n",
    "img = Image.open('D://Moy Hao Zhen/University of Malaya/Sem 5 - Internship Intel/UMHackathon/archive/Test/BGRemoved/BrownSpot/brownspot1.png')\n",
    "img.convert(\"RGBA\")\n",
    "datas = img.getdata()\n",
    "\n",
    "newData = []\n",
    "for item in datas:\n",
    "    if item[0] ==  255  and item[1] ==  255  and item[2] ==  255:\n",
    "        newData.append((255, 255, 255, 0))\n",
    "    else:\n",
    "        newData.append(item)\n",
    "\n",
    "img.putdata(newData)\n",
    "img.save('D://Moy Hao Zhen/University of Malaya/Sem 5 - Internship Intel/UMHackathon/archive/Test/BGRemoved/BrownSpot/brownspot1.png', \"PNG\")\n",
    "\n",
    "''';"
   ]
  },
  {
   "cell_type": "code",
   "execution_count": 5,
   "id": "c2827346",
   "metadata": {},
   "outputs": [],
   "source": [
    "EPOCHS = 30\n",
    "INIT_LR = 1e-3\n",
    "BS = 16\n",
    "default_image_size = tuple((256, 256))\n",
    "image_size = 0\n",
    "directory_root = 'D://Moy Hao Zhen/University of Malaya/Sem 5 - Internship Intel/UMHackathon/archive/Test/BGRemoved/BrownSpot'\n",
    "width=256\n",
    "height=256\n",
    "depth=3"
   ]
  },
  {
   "cell_type": "code",
   "execution_count": 6,
   "id": "50fff2a5",
   "metadata": {},
   "outputs": [],
   "source": [
    "def convert_image_to_array(image_dir):\n",
    "    try:\n",
    "        image = cv2.imread(image_dir)\n",
    "        if image is not None :\n",
    "            image = cv2.resize(image, default_image_size)   \n",
    "            return img_to_array(image)\n",
    "        else :\n",
    "            return np.array([])\n",
    "    except Exception as e:\n",
    "        print(f\"Error : {e}\")\n",
    "        return None"
   ]
  },
  {
   "cell_type": "code",
   "execution_count": 3,
   "id": "4deb23e8",
   "metadata": {},
   "outputs": [],
   "source": [
    "model2 = load_model(\"D://Moy Hao Zhen/University of Malaya/Sem 5 - Internship Intel/UMHackathon/archive/LabelledRice/rice_disease_classifer_v1_test_6676.model\")"
   ]
  },
  {
   "cell_type": "code",
   "execution_count": 15,
   "id": "e3333a8b",
   "metadata": {},
   "outputs": [
    {
     "data": {
      "text/plain": [
       "array([[1., 0., 0., 0.]], dtype=float32)"
      ]
     },
     "execution_count": 15,
     "metadata": {},
     "output_type": "execute_result"
    }
   ],
   "source": [
    "an_image = convert_image_to_array('D://Moy Hao Zhen/University of Malaya/Sem 5 - Internship Intel/UMHackathon/archive/Test/Labelled/BrownSpot/brownspot1.jpg')\n",
    "#print(an_image.shape)\n",
    "model2.predict(an_image[np.newaxis])"
   ]
  },
  {
   "cell_type": "code",
   "execution_count": 11,
   "id": "c82a7187",
   "metadata": {},
   "outputs": [
    {
     "data": {
      "text/plain": [
       "array([[1., 0., 0., 0.]], dtype=float32)"
      ]
     },
     "execution_count": 11,
     "metadata": {},
     "output_type": "execute_result"
    }
   ],
   "source": [
    "an_image1 = convert_image_to_array('D://Moy Hao Zhen/University of Malaya/Sem 5 - Internship Intel/UMHackathon/archive/Test/Labelled/BrownSpot/brownspot2.png')\n",
    "#print(an_image.shape)\n",
    "model2.predict(an_image1[np.newaxis])"
   ]
  },
  {
   "cell_type": "code",
   "execution_count": 16,
   "id": "980ec5b8",
   "metadata": {},
   "outputs": [
    {
     "data": {
      "text/plain": [
       "array([[1., 0., 0., 0.]], dtype=float32)"
      ]
     },
     "execution_count": 16,
     "metadata": {},
     "output_type": "execute_result"
    }
   ],
   "source": [
    "an_image2 = convert_image_to_array('D://Moy Hao Zhen/University of Malaya/Sem 5 - Internship Intel/UMHackathon/archive/Test/Labelled/Hispa/hispa1.jpg')\n",
    "#print(an_image.shape)\n",
    "model2.predict(an_image2[np.newaxis])"
   ]
  },
  {
   "cell_type": "code",
   "execution_count": 34,
   "id": "8f5f735a",
   "metadata": {},
   "outputs": [
    {
     "name": "stdout",
     "output_type": "stream",
     "text": [
      "D://Moy Hao Zhen/University of Malaya/Sem 5 - Internship Intel/UMHackathon/archive/Test/Labelled/LeafBlast/leafblast1.png\n"
     ]
    },
    {
     "data": {
      "text/plain": [
       "array([[0., 0., 0., 1.]], dtype=float32)"
      ]
     },
     "execution_count": 34,
     "metadata": {},
     "output_type": "execute_result"
    }
   ],
   "source": [
    "reshape('D://Moy Hao Zhen/University of Malaya/Sem 5 - Internship Intel/UMHackathon/archive/Test/Labelled/LeafBlast/leafblast1.png')\n",
    "an_image3 = convert_image_to_array('D://Moy Hao Zhen/University of Malaya/Sem 5 - Internship Intel/UMHackathon/archive/Test/Reshape/LeafBlast/leafblast1.png')\n",
    "\n",
    "#print(an_image.shape)\n",
    "model2.predict(an_image3[np.newaxis])\n"
   ]
  },
  {
   "cell_type": "code",
   "execution_count": 48,
   "id": "d95ea911",
   "metadata": {},
   "outputs": [
    {
     "name": "stdout",
     "output_type": "stream",
     "text": [
      "D://Moy Hao Zhen/University of Malaya/Sem 5 - Internship Intel/UMHackathon/archive/Test/Reshape/Healthy/healthy1.png\n"
     ]
    },
    {
     "data": {
      "text/plain": [
       "array([[1., 0., 0., 0.]], dtype=float32)"
      ]
     },
     "execution_count": 48,
     "metadata": {},
     "output_type": "execute_result"
    }
   ],
   "source": [
    "reshape('D://Moy Hao Zhen/University of Malaya/Sem 5 - Internship Intel/UMHackathon/archive/Test/Labelled/Healthy/healthy1.png')\n",
    "an_image3 = convert_image_to_array('D://Moy Hao Zhen/University of Malaya/Sem 5 - Internship Intel/UMHackathon/archive/Test/Reshape/Healthy/healthy1.png')\n",
    "\n",
    "#print(an_image.shape)\n",
    "model2.predict(an_image3[np.newaxis])"
   ]
  },
  {
   "cell_type": "code",
   "execution_count": 51,
   "id": "f1d5c5b5",
   "metadata": {},
   "outputs": [
    {
     "data": {
      "text/plain": [
       "array([[1., 0., 0., 0.]], dtype=float32)"
      ]
     },
     "execution_count": 51,
     "metadata": {},
     "output_type": "execute_result"
    }
   ],
   "source": [
    "#reshape('D://Moy Hao Zhen/University of Malaya/Sem 5 - Internship Intel/UMHackathon/archive/Test/Labelled/Healthy/healthy1.png')\n",
    "an_image4 = convert_image_to_array('D://Moy Hao Zhen/University of Malaya/Sem 5 - Internship Intel/UMHackathon/archive/Test/Reshape/Healthy/healthy2.jpg')\n",
    "\n",
    "#print(an_image.shape)\n",
    "model2.predict(an_image4[np.newaxis])"
   ]
  },
  {
   "cell_type": "code",
   "execution_count": null,
   "id": "36fc3229",
   "metadata": {},
   "outputs": [],
   "source": []
  }
 ],
 "metadata": {
  "kernelspec": {
   "display_name": "gputest",
   "language": "python",
   "name": "gputest"
  },
  "language_info": {
   "codemirror_mode": {
    "name": "ipython",
    "version": 3
   },
   "file_extension": ".py",
   "mimetype": "text/x-python",
   "name": "python",
   "nbconvert_exporter": "python",
   "pygments_lexer": "ipython3",
   "version": "3.7.11"
  }
 },
 "nbformat": 4,
 "nbformat_minor": 5
}
